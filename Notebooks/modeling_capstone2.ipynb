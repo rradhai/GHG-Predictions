{
 "cells": [
  {
   "cell_type": "markdown",
   "id": "fd177af8",
   "metadata": {},
   "source": [
    "# <font color=blue>Contents</font>\n",
    "\n",
    "1. <font color=blue>Introduction\n",
    "2. Import the packages\n",
    "3. Load the data\n",
    "4. Subsetting the datasets with the numeric columns and the State\n",
    "5. One-hot encoding for States\n",
    "6. Model 1. MultiOutput Regressor </font>\n",
    "    - <font color=green>6.1 MultiOutput Regressor model for all 4 datasets - Random Forest\n",
    "    - 6.2 Model 2: MultiOutput Regressor model for all 4 datasets - Ridge</font>\n",
    "7. <font color=blue>Model 2: OLS Linear Regression </font>\n",
    "    - <font color=green>7.1 Standardizing the numeric columns\n",
    "    - 7.2 Adding a constant and Train Test split of the datasets \n",
    "    - 7.3 OLS Model on 4 datasets\n",
    "    \n",
    "8. <font color=blue>Model 3: Random Forest Regressor\n",
    "9. Comparison of performance metric R<sup>2</sup> of different models\n",
    "10. Output: Random Forest Model on all the 4 datasets\n",
    "11. Conclusion\n",
    "    </blue>\n"
   ]
  },
  {
   "cell_type": "markdown",
   "id": "38071fde",
   "metadata": {},
   "source": [
    "# 1. Introduction"
   ]
  },
  {
   "cell_type": "markdown",
   "id": "39e33884",
   "metadata": {},
   "source": [
    "With the emission reports submitted by GHGRP(Greenhouse Gases Reporting Program) to EDA(Environmental Protection Agency of United States) over the past decade, 2011-2020, we are trying to see the pattern of how the emission has been taken care of by various industries in the different states of US. There has been some data missing in the earlier industries, as more industries started to report the emissions data in the recent years. So, this missing data has been handled by imputing the mean value of the emissions, thereby minimizing the effect of these imputed values on the original data. \n",
    "\n",
    "We are trying to see how the industries have been doing with the emissions and also eventually figure out and predict how the emissions will be after this decade, by 2030. EDA aims phasing down production and consumption by 85 percent over the next 15 years, maximizing reclamation and minimizing releases from equipment, and facilitating the transition to next-generation technologies through sector-based restrictions. A global HFC phasedown is expected to avoid up to 0.5° Celsius of global warming by 2100\n",
    "\n",
    "Data Citation: \n",
    "\n",
    "U.S. Environmental Protection Agency Office of Atmospheric Programs\n",
    "Greenhouse Gas Reporting Program (GHGRP)\n",
    "[Compressed file contains a multi-year data summary spreadsheet containing the most important, high-level information for facilities, as well as yearly spreadsheets containing slightly more detailed information than the multi-year summary, including reported emissions by greenhouse gas and process.]\n",
    "Available at https://www.epa.gov/ghgreporting/data-sets\n",
    "Date accessed: [September, 2021]\n"
   ]
  },
  {
   "cell_type": "markdown",
   "id": "be8ccb20",
   "metadata": {},
   "source": [
    "# 2. Package Imports"
   ]
  },
  {
   "cell_type": "code",
   "execution_count": 1,
   "id": "3e2f62c0",
   "metadata": {},
   "outputs": [],
   "source": [
    "import pandas as pd\n",
    "import numpy as np\n",
    "import matplotlib.pyplot as plt\n",
    "import seaborn as sns\n",
    "from sklearn.preprocessing import scale\n",
    "from sklearn.decomposition import PCA\n",
    "\n",
    "import math\n",
    "\n",
    "import statsmodels.api as sm\n",
    "\n",
    "from sklearn.model_selection import train_test_split\n",
    "from sklearn import linear_model, preprocessing\n",
    "from sklearn.multioutput import MultiOutputRegressor\n",
    "from sklearn.ensemble import RandomForestRegressor\n",
    "from sklearn.metrics import mean_squared_error, r2_score, mean_absolute_error\n",
    "from sklearn.linear_model import Ridge\n"
   ]
  },
  {
   "cell_type": "markdown",
   "id": "5c8ac9f9",
   "metadata": {},
   "source": [
    "# 3. Loading Data"
   ]
  },
  {
   "cell_type": "code",
   "execution_count": 2,
   "id": "2deb37ef",
   "metadata": {},
   "outputs": [],
   "source": [
    "\n",
    "df_de =pd.read_excel('../data/data_for_training_preprocessing.xlsx',sheet_name='sheet3',index_col=0, engine='openpyxl')\n",
    "df_oog =pd.read_excel('../data/data_for_training_preprocessing.xlsx',sheet_name='sheet4',index_col=0, engine='openpyxl')\n",
    "df_sf6 =pd.read_excel('../data/data_for_training_preprocessing.xlsx',sheet_name='sheet5',index_col=0, engine='openpyxl')\n",
    "df_ldc =pd.read_excel('../data/data_for_training_preprocessing.xlsx',sheet_name='sheet6',index_col=0, engine='openpyxl')\n",
    "de =pd.read_excel('../data/data_for_training_preprocessing.xlsx',sheet_name='sheet1',index_col=0, engine='openpyxl')\n",
    "sf6 =pd.read_excel('../data/data_for_training_preprocessing.xlsx',sheet_name='sheet2',index_col=0, engine='openpyxl')\n",
    "ldc =pd.read_excel('../data/data_for_training_preprocessing.xlsx',sheet_name='sheet7',index_col=0, engine='openpyxl')\n",
    "oog =pd.read_excel('../data/data_for_training_preprocessing.xlsx',sheet_name='sheet8',index_col=0, engine='openpyxl')\n",
    "\n",
    "\n"
   ]
  },
  {
   "cell_type": "code",
   "execution_count": 3,
   "id": "6c649a56",
   "metadata": {
    "scrolled": false
   },
   "outputs": [
    {
     "name": "stdout",
     "output_type": "stream",
     "text": [
      "Index(['FRS_Id', 'Facility_Name', 'City', 'State', 'Zip Code', 'Address',\n",
      "       'County', 'Latitude', 'Longitude', 'Primary_NAICS_Code', 'IT_subparts',\n",
      "       'IT_sectors', '2020', '2019', '2018', '2017', '2016', '2015', '2014',\n",
      "       '2013', '2012', '2011', '2020_perc_change', '2020_change_pattern',\n",
      "       '2012_perc_change', 'emission_reduced_2012', '2013_perc_change',\n",
      "       'emission_reduced_2013', '2014_perc_change', 'emission_reduced_2014',\n",
      "       '2015_perc_change', 'emission_reduced_2015', '2016_perc_change',\n",
      "       'emission_reduced_2016', '2017_perc_change', 'emission_reduced_2017',\n",
      "       '2018_perc_change', 'emission_reduced_2018', '2019_perc_change',\n",
      "       'emission_reduced_2019', 'emission_reduced_2020'],\n",
      "      dtype='object')\n",
      "(6515, 41)\n",
      "Index(['FRD_id', 'Facility_Name', 'City', 'State', 'Zip_Code', 'Address',\n",
      "       'County', 'Latitude', 'Longitude', 'Primary_NAICS_Code', 'IT_subparts',\n",
      "       '2020', '2019', '2018', '2017', '2016', '2015', '2014', '2013', '2012',\n",
      "       '2011', '2012_perc_change', 'emission_reduced_2012', '2013_perc_change',\n",
      "       'emission_reduced_2013', '2014_perc_change', 'emission_reduced_2014',\n",
      "       '2015_perc_change', 'emission_reduced_2015', '2016_perc_change',\n",
      "       'emission_reduced_2016', '2017_perc_change', 'emission_reduced_2017',\n",
      "       '2018_perc_change', 'emission_reduced_2018', '2019_perc_change',\n",
      "       'emission_reduced_2019', '2020_perc_change', 'emission_reduced_2020'],\n",
      "      dtype='object')\n",
      "(89, 39)\n",
      "Index(['FRS_Id', 'Facility_Name', 'Basin', 'City', 'State', 'Zip_Code',\n",
      "       'Address', 'County', 'Latitude', 'Longitude', 'Primary_NAICS_Code',\n",
      "       'IT_subparts', '2020', 'CO2_emi_non_bio_2020', 'Meth_CH4_emi_2020',\n",
      "       'N2O_emi_2020', '2019', 'CO2_emi_non_bio_2019', 'Meth_CH4_emi_2019',\n",
      "       'N2O_emi_2019', '2018', 'CO2_emi_non_bio_2018', 'Meth_CH4_emi_2018',\n",
      "       'N2O_emi_2018', '2017', 'CO2_emi_non_bio_2017', 'Meth_CH4_emi_2017',\n",
      "       'N2O_emi_2017', '2016', 'CO2_emi_non_bio_2016', 'Meth_CH4_emi_2016',\n",
      "       'N2O_emi_2016', '2015', 'CO2_emi_non_bio_2015', 'Meth_CH4_emi_2015',\n",
      "       'N2O_emi_2015', '2014', 'CCO2_emi_non_bio_2014', 'Meth_CH4_emi_2014',\n",
      "       'N2O_emi_2014', '2013', 'CO2_emi_non_bio_2013', 'Meth_CH4_emi_2013',\n",
      "       'N2O_emi_2013', '2012', 'CO2_emi_non_bio_2012', 'Meth_CH4_emi_2012',\n",
      "       'N2O_emi_2012', '2011', 'CO2_emi_non_bio_2011', 'Meth_CH4_emi_2011',\n",
      "       'N2O_emi_2011', '2012_perc_change', 'emission_reduced_2012',\n",
      "       '2013_perc_change', 'emission_reduced_2013', '2014_perc_change',\n",
      "       'emission_reduced_2014', '2015_perc_change', 'emission_reduced_2015',\n",
      "       '2016_perc_change', 'emission_reduced_2016', '2017_perc_change',\n",
      "       'emission_reduced_2017', '2018_perc_change', 'emission_reduced_2018',\n",
      "       '2019_perc_change', 'emission_reduced_2019', '2020_perc_change',\n",
      "       'emission_reduced_2020'],\n",
      "      dtype='object')\n",
      "(468, 70)\n",
      "Index(['FRS_Id', 'Facility_Name', 'State_where_Emissions_Occur', 'City',\n",
      "       'State', 'Zip_Code', 'Address', 'County', 'Latitude', 'Longitude',\n",
      "       'Primary_NAICS_Code', 'IT_subparts', '2020', '2019', '2018', '2017',\n",
      "       '2016', '2015', '2014', '2013', '2012', '2011', '2012_perc_change',\n",
      "       'emission_reduced_2012', '2013_perc_change', 'emission_reduced_2013',\n",
      "       '2014_perc_change', 'emission_reduced_2014', '2015_perc_change',\n",
      "       'emission_reduced_2015', '2016_perc_change', 'emission_reduced_2016',\n",
      "       '2017_perc_change', 'emission_reduced_2017', '2018_perc_change',\n",
      "       'emission_reduced_2018', '2019_perc_change', 'emission_reduced_2019',\n",
      "       '2020_perc_change', 'emission_reduced_2020'],\n",
      "      dtype='object')\n",
      "(164, 40)\n"
     ]
    }
   ],
   "source": [
    "dfs = [df_de,df_sf6,df_oog,df_ldc]\n",
    "for df in dfs:\n",
    "    print(df.columns)\n",
    "    print(df.shape)"
   ]
  },
  {
   "cell_type": "markdown",
   "id": "6243d714",
   "metadata": {},
   "source": [
    "# 4. Subsetting the datasets with the numeric columns and the State\n",
    "\n",
    "The data has been sliced to have just the numerical columns with just the State column. We are analyzing the emissions from each State. "
   ]
  },
  {
   "cell_type": "code",
   "execution_count": 4,
   "id": "9f9360f7",
   "metadata": {},
   "outputs": [],
   "source": [
    "columns = ['State','Latitude', 'Longitude','2020','2019', '2018', '2017', '2016', '2015', '2014',\n",
    "       '2013', '2012', '2011']\n",
    "df_de_X = df_de[columns]\n",
    "df_sf6_X = df_sf6[columns]\n",
    "df_oog_X = df_oog[columns]\n",
    "df_ldc_X = df_ldc[columns]\n",
    "df_de_X.reset_index(drop=True,inplace=True)\n",
    "df_sf6_X.reset_index(drop=True,inplace=True)\n",
    "df_oog_X.reset_index(drop=True,inplace=True)\n",
    "df_ldc_X.reset_index(drop=True,inplace=True)"
   ]
  },
  {
   "cell_type": "markdown",
   "id": "bf3af3c3",
   "metadata": {},
   "source": [
    "# 5. One-hot encoded for States\n",
    "\n",
    "One hot encoding is a process of converting the Categorical variables into Numerical variables so that the ML algorithms can do well with their perdiction."
   ]
  },
  {
   "cell_type": "code",
   "execution_count": 5,
   "id": "7ad5030b",
   "metadata": {},
   "outputs": [],
   "source": [
    "df_de_st_dummies=pd.get_dummies(df_de_X['State'])\n",
    "df_de_X_d= df_de_X.drop(['State','2020'],axis=1).join(df_de_st_dummies)\n",
    "columns = df_de_X_d.columns\n",
    "df_de_y=df_de_X[['2020']]\n",
    "df_sf6_st_dummies=pd.get_dummies(df_sf6_X['State'])\n",
    "df_sf6_X_d = df_sf6_X.drop(['State','2020'],axis=1).join(df_sf6_st_dummies)\n",
    "df_sf6_y=df_sf6_X[['2020']]\n",
    "df_oog_st_dummies=pd.get_dummies(df_oog_X['State'])\n",
    "df_oog_X_d = df_oog_X.drop(['State','2020'],axis=1).join(df_oog_st_dummies)\n",
    "df_oog_y=df_oog_X[['2020']]\n",
    "df_ldc_st_dummies=pd.get_dummies(df_ldc_X['State'])\n",
    "df_ldc_X_d= df_ldc_X.drop(['State','2020'],axis=1).join(df_ldc_st_dummies)\n",
    "df_ldc_y=df_ldc_X[['2020']]\n"
   ]
  },
  {
   "cell_type": "markdown",
   "id": "c4997170",
   "metadata": {},
   "source": [
    "# 6. Model 1: MultiOutput Regressor"
   ]
  },
  {
   "cell_type": "code",
   "execution_count": 6,
   "id": "55b27b5e",
   "metadata": {
    "scrolled": true
   },
   "outputs": [],
   "source": [
    "#Creating the model for DE dataset\n",
    "\n",
    "#Dropping the 3 years data to enable prediction for 3 years\n",
    "X = df_de_X.drop(['State','2018','2019','2020'],axis=1).join(pd.get_dummies(df_de_X.State))\n",
    "y= df_de_X[['2018','2019','2020']]\n",
    "\n",
    "#Splitting data into training and test sets\n",
    "df_de_X_train, df_de_X_test, df_de_y_train, df_de_y_test=train_test_split(X, y, test_size = 0.25, random_state = 246)\n",
    "\n",
    "#Defining the MultiOutputRegressor\n",
    "regr_multirf = MultiOutputRegressor(RandomForestRegressor(n_estimators=10, max_depth=5, random_state=2))\n",
    "regr_multirf.fit(df_de_X_train, df_de_y_train)\n",
    "\n",
    "#Predicting for 3 years\n",
    "y_multirf = regr_multirf.predict(df_de_X_test)\n"
   ]
  },
  {
   "cell_type": "code",
   "execution_count": 7,
   "id": "461fb5fa",
   "metadata": {},
   "outputs": [
    {
     "name": "stdout",
     "output_type": "stream",
     "text": [
      "Mean squared error 134179107608.71758\n",
      "SQRT of R-squared 366304.6650108589\n",
      "Mean absolute error 115680.81348233084\n",
      "R-squared error for DE dataset:\n",
      " 2018    1.0\n",
      "2019    1.0\n",
      "2020    1.0\n",
      "dtype: float64\n"
     ]
    }
   ],
   "source": [
    "print('Mean squared error', mean_squared_error(df_de_y_test, y_multirf))\n",
    "print('SQRT of R-squared', math.sqrt(mean_squared_error(df_de_y_test, y_multirf)))\n",
    "print('Mean absolute error', mean_absolute_error(df_de_y_test, y_multirf))\n",
    "\n",
    "\n",
    "rmse=np.sqrt(np.sum((y_multirf - df_de_y_test)**2)/len(df_de_y_test))\n",
    "mae = np.sum(np.abs(y_multirf - df_de_y_test))/len(df_de_y_test)\n",
    "den =np.sum((df_de_y_test-np.mean(df_de_y_test))**2)/len(df_de_y_test)\n",
    "print('R-squared error for DE dataset:\\n',1-(rmse/den))"
   ]
  },
  {
   "cell_type": "markdown",
   "id": "c001b700",
   "metadata": {},
   "source": [
    "## 6.1 MultiOutput Regressor model for all 4 datasets - Random Forest"
   ]
  },
  {
   "cell_type": "code",
   "execution_count": 8,
   "id": "faab4c07",
   "metadata": {},
   "outputs": [
    {
     "name": "stdout",
     "output_type": "stream",
     "text": [
      "R-squared error for dataset:\n",
      " 2018    1.0\n",
      "2019    1.0\n",
      "2020    1.0\n",
      "dtype: float64\n",
      "R-squared error for dataset:\n",
      " 2018    0.999990\n",
      "2019    0.999990\n",
      "2020    0.999988\n",
      "dtype: float64\n",
      "R-squared error for dataset:\n",
      " 2018    0.999998\n",
      "2019    0.999998\n",
      "2020    0.999997\n",
      "dtype: float64\n",
      "R-squared error for dataset:\n",
      " 2018    0.999990\n",
      "2019    0.999988\n",
      "2020    0.999988\n",
      "dtype: float64\n"
     ]
    }
   ],
   "source": [
    "Xs = [df_de_X,df_sf6_X,df_oog_X,df_ldc_X]\n",
    "regr_multirf = MultiOutputRegressor(RandomForestRegressor(n_estimators=10, max_depth=3, random_state=2))\n",
    "y_multirf=[]\n",
    "for df in Xs:\n",
    "    X = df.drop(['State','2018','2019','2020'],axis=1).join(pd.get_dummies(df.State))\n",
    "    y= df[['2018','2019','2020']]\n",
    "    X_train, X_test, y_train, y_test=train_test_split(X, y, test_size = 0.25, random_state = 246)\n",
    "    regr_multirf.fit(X_train, y_train)\n",
    "    y_multirf=regr_multirf.predict(X_test)\n",
    "    \n",
    "    rmse=np.sqrt(np.sum((y_multirf - y_test)**2)/len(y_test))\n",
    "    mae = np.sum(np.abs(y_multirf - y_test))/len(y_test)\n",
    "    den =np.sum((y_test-np.mean(y_test))**2)/len(y_test)\n",
    "    print('R-squared error for dataset:\\n',1-(rmse/den))"
   ]
  },
  {
   "cell_type": "markdown",
   "id": "2618789c",
   "metadata": {},
   "source": [
    "Without the default parameters, the regressor is yielding the best results. "
   ]
  },
  {
   "cell_type": "markdown",
   "id": "6e5d9736",
   "metadata": {},
   "source": [
    "## 6.2 MultiOutput Regressor model for all 4 datasets - Ridge"
   ]
  },
  {
   "cell_type": "code",
   "execution_count": 9,
   "id": "44ed7fd5",
   "metadata": {},
   "outputs": [
    {
     "name": "stdout",
     "output_type": "stream",
     "text": [
      "R-squared error for dataset:\n",
      " 2018    1.0\n",
      "2019    1.0\n",
      "2020    1.0\n",
      "dtype: float64\n",
      "R-squared error for dataset:\n",
      " 2018    0.999988\n",
      "2019    0.999991\n",
      "2020    0.999985\n",
      "dtype: float64\n",
      "R-squared error for dataset:\n",
      " 2018    0.999998\n",
      "2019    0.999998\n",
      "2020    0.999996\n",
      "dtype: float64\n",
      "R-squared error for dataset:\n",
      " 2018    0.999991\n",
      "2019    0.999988\n",
      "2020    0.999983\n",
      "dtype: float64\n"
     ]
    }
   ],
   "source": [
    "from sklearn.pipeline import make_pipeline\n",
    "from sklearn.preprocessing import StandardScaler\n",
    "\n",
    "\n",
    "Xs = [df_de_X,df_sf6_X,df_oog_X,df_ldc_X]\n",
    "regr_multiridge = make_pipeline(StandardScaler(with_mean=False), Ridge())\n",
    "#regr_multiridge = MultiOutputRegressor(Ridge(normalize=True))\n",
    "y_multirf=[]\n",
    "for df in Xs:\n",
    "    X = df.drop(['State','2018','2019','2020'],axis=1).join(pd.get_dummies(df.State))\n",
    "    y= df[['2018','2019','2020']]\n",
    "    X_train, X_test, y_train, y_test=train_test_split(X, y, test_size = 0.25, random_state = 246)\n",
    "    regr_multiridge.fit(X_train, y_train)\n",
    "    y_multiridge=regr_multiridge.predict(X_test)\n",
    "    \n",
    "    rmse=np.sqrt(np.sum((y_multiridge - y_test)**2)/len(y_test))\n",
    "    mae = np.sum(np.abs(y_multiridge - y_test))/len(y_test)\n",
    "    den =np.sum((y_test-np.mean(y_test))**2)/len(y_test)\n",
    "    print('R-squared error for dataset:\\n',1-(rmse/den))\n"
   ]
  },
  {
   "cell_type": "markdown",
   "id": "6303aa0d",
   "metadata": {},
   "source": [
    "TThe R<sup>2</sup> scores show that the Ridge regressor is yielding the best results for the datasets, as well."
   ]
  },
  {
   "cell_type": "markdown",
   "id": "a1d37817",
   "metadata": {},
   "source": [
    "# 7. Model 2: Ordinary Least Squares\n",
    "\n",
    "\n",
    "\n",
    "## 7.1 Standardizing the numeric columns"
   ]
  },
  {
   "cell_type": "code",
   "execution_count": 10,
   "id": "d7e6894b",
   "metadata": {},
   "outputs": [],
   "source": [
    "scaler = preprocessing.StandardScaler().fit(df_de_X_d)\n",
    "df_de_X_s=pd.DataFrame(scaler.transform(df_de_X_d))\n",
    "df_de_X_s.columns = df_de_X_d.columns\n",
    "scaler = preprocessing.StandardScaler().fit(df_sf6_X_d)\n",
    "df_sf6_X_s=pd.DataFrame(scaler.transform(df_sf6_X_d))\n",
    "df_sf6_X_s.columns = df_sf6_X_d.columns\n",
    "scaler = preprocessing.StandardScaler().fit(df_oog_X_d)\n",
    "df_oog_X_s=pd.DataFrame(scaler.transform(df_oog_X_d))\n",
    "df_oog_X_s.columns = df_oog_X_d.columns\n",
    "scaler = preprocessing.StandardScaler().fit(df_ldc_X_d)\n",
    "df_ldc_X_s=pd.DataFrame(scaler.transform(df_ldc_X_d))\n",
    "df_ldc_X_s.columns = df_ldc_X_d.columns"
   ]
  },
  {
   "cell_type": "markdown",
   "id": "69c4eaef",
   "metadata": {},
   "source": [
    "## 7.2 Adding a constant and Train Test split of the datasets for a Linear Regression Model"
   ]
  },
  {
   "cell_type": "code",
   "execution_count": 11,
   "id": "3617eaad",
   "metadata": {},
   "outputs": [],
   "source": [
    "df_de_X_s1 = sm.add_constant(df_de_X_s)\n",
    "df_sf6_X_s1 = sm.add_constant(df_sf6_X_s)\n",
    "df_oog_X_s1 = sm.add_constant(df_oog_X_s)\n",
    "df_ldc_X_s1 = sm.add_constant(df_ldc_X_s)\n",
    "\n",
    "df_de_X_train, df_de_X_test, df_de_y_train, df_de_y_test=train_test_split(df_de_X_s1, df_de_y, test_size = 0.25, random_state = 246)\n",
    "df_sf6_X_train, df_sf6_X_test, df_sf6_y_train, df_sf6_y_test=train_test_split(df_sf6_X_s1, df_sf6_y, test_size = 0.25, random_state = 246)\n",
    "df_oog_X_train, df_oog_X_test, df_oog_y_train, df_oog_y_test=train_test_split(df_oog_X_s1, df_oog_y, test_size = 0.25, random_state = 246)\n",
    "df_ldc_X_train, df_ldc_X_test, df_ldc_y_train, df_ldc_y_test=train_test_split(df_ldc_X_s1, df_ldc_y, test_size = 0.25, random_state = 246)\n"
   ]
  },
  {
   "cell_type": "markdown",
   "id": "b06a2dde",
   "metadata": {},
   "source": [
    "## 7.3 OLS Model on 4 datasets"
   ]
  },
  {
   "cell_type": "code",
   "execution_count": 12,
   "id": "f8867762",
   "metadata": {
    "scrolled": true
   },
   "outputs": [
    {
     "name": "stdout",
     "output_type": "stream",
     "text": [
      "                            OLS Regression Results                            \n",
      "==============================================================================\n",
      "Dep. Variable:                   2020   R-squared:                       0.956\n",
      "Model:                            OLS   Adj. R-squared:                  0.956\n",
      "Method:                 Least Squares   F-statistic:                     1645.\n",
      "Date:                Wed, 03 Aug 2022   Prob (F-statistic):               0.00\n",
      "Time:                        19:15:48   Log-Likelihood:                -67023.\n",
      "No. Observations:                4886   AIC:                         1.342e+05\n",
      "Df Residuals:                    4821   BIC:                         1.346e+05\n",
      "Df Model:                          64                                         \n",
      "Covariance Type:            nonrobust                                         \n",
      "==============================================================================\n",
      "                 coef    std err          t      P>|t|      [0.025      0.975]\n",
      "------------------------------------------------------------------------------\n",
      "const       3.728e+05   3165.356    117.768      0.000    3.67e+05    3.79e+05\n",
      "Latitude    1.242e+04   1.42e+04      0.876      0.381   -1.54e+04    4.02e+04\n",
      "Longitude   8.679e+04   2.88e+04      3.017      0.003    3.04e+04    1.43e+05\n",
      "2019        9.506e+05   1.75e+04     54.252      0.000    9.16e+05    9.85e+05\n",
      "2018          1.9e+05   2.48e+04      7.659      0.000    1.41e+05    2.39e+05\n",
      "2017       -1.229e+04   2.52e+04     -0.488      0.626   -6.17e+04    3.71e+04\n",
      "2016        7.252e+04   2.53e+04      2.864      0.004    2.29e+04    1.22e+05\n",
      "2015        1.014e+05   2.51e+04      4.037      0.000    5.21e+04    1.51e+05\n",
      "2014       -3.552e+05   2.68e+04    -13.235      0.000   -4.08e+05   -3.03e+05\n",
      "2013        7.812e+04   2.61e+04      2.999      0.003     2.7e+04    1.29e+05\n",
      "2012        2.364e+04   2.27e+04      1.043      0.297   -2.08e+04    6.81e+04\n",
      "2011        3651.1674   1.79e+04      0.204      0.838   -3.14e+04    3.87e+04\n",
      "AK          2.455e+04   1.07e+04      2.303      0.021    3648.964    4.54e+04\n",
      "AL         -3245.6271   3773.806     -0.860      0.390   -1.06e+04    4152.755\n",
      "AR         -6608.2513   3179.892     -2.078      0.038   -1.28e+04    -374.213\n",
      "AZ          2.039e+04   5234.655      3.896      0.000    1.01e+04    3.07e+04\n",
      "CA          3.544e+04   1.15e+04      3.076      0.002    1.28e+04     5.8e+04\n",
      "CO          9259.1773   4169.503      2.221      0.026    1085.050    1.74e+04\n",
      "CT         -4927.6330   4139.771     -1.190      0.234    -1.3e+04    3188.207\n",
      "DC         -2130.0710   3228.986     -0.660      0.509   -8460.356    4200.214\n",
      "DE         -5046.3946   3576.071     -1.411      0.158   -1.21e+04    1964.336\n",
      "FL          4452.0791   4932.605      0.903      0.367   -5218.078    1.41e+04\n",
      "GA         -9548.0137   4011.662     -2.380      0.017   -1.74e+04   -1683.327\n",
      "GU         -3.911e+04   1.46e+04     -2.671      0.008   -6.78e+04   -1.04e+04\n",
      "HI           2.34e+04   8842.319      2.646      0.008    6064.069    4.07e+04\n",
      "IA         -2401.5843   3465.271     -0.693      0.488   -9195.097    4391.928\n",
      "ID          7990.1736   4329.667      1.845      0.065    -497.948    1.65e+04\n",
      "IL         -4102.4909   3629.263     -1.130      0.258   -1.12e+04    3012.519\n",
      "IN         -1.238e+04   3752.276     -3.298      0.001   -1.97e+04   -5019.171\n",
      "KS          4127.8969   3272.059      1.262      0.207   -2286.831    1.05e+04\n",
      "KY         -7309.0478   3542.941     -2.063      0.039   -1.43e+04    -363.267\n",
      "LA           503.4893   5089.874      0.099      0.921   -9474.986    1.05e+04\n",
      "MA         -1.272e+04   5012.016     -2.538      0.011   -2.25e+04   -2892.598\n",
      "MD         -9830.4543   4048.133     -2.428      0.015   -1.78e+04   -1894.267\n",
      "ME         -9441.1212   4252.123     -2.220      0.026   -1.78e+04   -1105.020\n",
      "MI         -1.637e+04   4825.707     -3.392      0.001   -2.58e+04   -6908.257\n",
      "MN         -3423.3245   4072.540     -0.841      0.401   -1.14e+04    4560.712\n",
      "MO          3658.9929   3139.462      1.165      0.244   -2495.785    9813.771\n",
      "MS          2103.0101   3377.047      0.623      0.533   -4517.543    8723.563\n",
      "MT         -8535.2849   3726.520     -2.290      0.022   -1.58e+04   -1229.606\n",
      "NC         -1.393e+04   4399.951     -3.166      0.002   -2.26e+04   -5304.369\n",
      "ND          4323.1161   4002.629      1.080      0.280   -3523.863    1.22e+04\n",
      "NE          3382.5687   3334.322      1.014      0.310   -3154.224    9919.362\n",
      "NH         -6865.6527   3889.565     -1.765      0.078   -1.45e+04     759.668\n",
      "NJ         -1.534e+04   4899.951     -3.130      0.002   -2.49e+04   -5731.422\n",
      "NM          9198.2921   4247.357      2.166      0.030     871.535    1.75e+04\n",
      "NV          1.174e+04   4482.729      2.618      0.009    2949.792    2.05e+04\n",
      "NY         -1.453e+04   6656.665     -2.183      0.029   -2.76e+04   -1480.956\n",
      "OH         -2422.3506   4924.234     -0.492      0.623   -1.21e+04    7231.394\n",
      "OK          2175.1865   3400.592      0.640      0.522   -4491.525    8841.898\n",
      "OR          9841.3214   5710.182      1.723      0.085   -1353.240     2.1e+04\n",
      "PA         -1.884e+04   6395.314     -2.946      0.003   -3.14e+04   -6305.881\n",
      "PR         -1503.0771   4353.856     -0.345      0.730      -1e+04    7032.468\n",
      "RI         -3062.0340   3140.901     -0.975      0.330   -9219.632    3095.564\n",
      "SC         -5357.4799   3894.145     -1.376      0.169    -1.3e+04    2276.820\n",
      "SD           573.9315   3504.306      0.164      0.870   -6296.107    7443.970\n",
      "TN         -6759.7925   3353.126     -2.016      0.044   -1.33e+04    -186.135\n",
      "TX          1.686e+04   7031.264      2.398      0.017    3078.448    3.06e+04\n",
      "UT          1.056e+04   4558.285      2.317      0.021    1627.323    1.95e+04\n",
      "VA         -6735.6748   4586.552     -1.469      0.142   -1.57e+04    2256.060\n",
      "VI            63.7712   3496.858      0.018      0.985   -6791.665    6919.207\n",
      "VT         -3181.7882   3258.181     -0.977      0.329   -9569.309    3205.732\n",
      "WA          1.229e+04   6540.928      1.879      0.060    -534.150    2.51e+04\n",
      "WI         -4096.8121   3905.619     -1.049      0.294   -1.18e+04    3559.982\n",
      "WV         -1.029e+04   4173.172     -2.466      0.014   -1.85e+04   -2107.674\n",
      "WY          9590.5283   4112.647      2.332      0.020    1527.864    1.77e+04\n",
      "==============================================================================\n",
      "Omnibus:                     2451.070   Durbin-Watson:                   1.990\n",
      "Prob(Omnibus):                  0.000   Jarque-Bera (JB):          1049886.360\n",
      "Skew:                          -1.085   Prob(JB):                         0.00\n",
      "Kurtosis:                      74.780   Cond. No.                     2.25e+15\n",
      "==============================================================================\n",
      "\n",
      "Notes:\n",
      "[1] Standard Errors assume that the covariance matrix of the errors is correctly specified.\n",
      "[2] The smallest eigenvalue is 7.66e-27. This might indicate that there are\n",
      "strong multicollinearity problems or that the design matrix is singular.\n"
     ]
    }
   ],
   "source": [
    "rModel_de = sm.OLS(df_de_y_train, df_de_X_train)\n",
    "rModel_de_results = rModel_de.fit()\n",
    "print(rModel_de_results.summary())"
   ]
  },
  {
   "cell_type": "markdown",
   "id": "010453d7",
   "metadata": {},
   "source": [
    "### The R-squared value of .956 determines that model is working well with this Direct Emission data. "
   ]
  },
  {
   "cell_type": "code",
   "execution_count": 13,
   "id": "beee7c9d",
   "metadata": {
    "scrolled": false
   },
   "outputs": [
    {
     "data": {
      "text/html": [
       "<table class=\"simpletable\">\n",
       "<caption>OLS Regression Results</caption>\n",
       "<tr>\n",
       "  <th>Dep. Variable:</th>          <td>2020</td>       <th>  R-squared:         </th> <td>   0.815</td>\n",
       "</tr>\n",
       "<tr>\n",
       "  <th>Model:</th>                   <td>OLS</td>       <th>  Adj. R-squared:    </th> <td>   0.519</td>\n",
       "</tr>\n",
       "<tr>\n",
       "  <th>Method:</th>             <td>Least Squares</td>  <th>  F-statistic:       </th> <td>   2.751</td>\n",
       "</tr>\n",
       "<tr>\n",
       "  <th>Date:</th>             <td>Wed, 03 Aug 2022</td> <th>  Prob (F-statistic):</th>  <td>0.00457</td>\n",
       "</tr>\n",
       "<tr>\n",
       "  <th>Time:</th>                 <td>19:15:49</td>     <th>  Log-Likelihood:    </th> <td> -724.60</td>\n",
       "</tr>\n",
       "<tr>\n",
       "  <th>No. Observations:</th>      <td>    66</td>      <th>  AIC:               </th> <td>   1531.</td>\n",
       "</tr>\n",
       "<tr>\n",
       "  <th>Df Residuals:</th>          <td>    25</td>      <th>  BIC:               </th> <td>   1621.</td>\n",
       "</tr>\n",
       "<tr>\n",
       "  <th>Df Model:</th>              <td>    40</td>      <th>                     </th>     <td> </td>   \n",
       "</tr>\n",
       "<tr>\n",
       "  <th>Covariance Type:</th>      <td>nonrobust</td>    <th>                     </th>     <td> </td>   \n",
       "</tr>\n",
       "</table>\n",
       "<table class=\"simpletable\">\n",
       "<tr>\n",
       "      <td></td>         <th>coef</th>     <th>std err</th>      <th>t</th>      <th>P>|t|</th>  <th>[0.025</th>    <th>0.975]</th>  \n",
       "</tr>\n",
       "<tr>\n",
       "  <th>const</th>     <td>  2.77e+04</td> <td> 4342.707</td> <td>    6.379</td> <td> 0.000</td> <td> 1.88e+04</td> <td> 3.66e+04</td>\n",
       "</tr>\n",
       "<tr>\n",
       "  <th>Latitude</th>  <td> 6053.6565</td> <td> 2.02e+04</td> <td>    0.300</td> <td> 0.767</td> <td>-3.55e+04</td> <td> 4.76e+04</td>\n",
       "</tr>\n",
       "<tr>\n",
       "  <th>Longitude</th> <td> 3.447e+04</td> <td> 4.08e+04</td> <td>    0.845</td> <td> 0.406</td> <td>-4.95e+04</td> <td> 1.18e+05</td>\n",
       "</tr>\n",
       "<tr>\n",
       "  <th>2019</th>      <td>  2.44e+04</td> <td> 1.28e+04</td> <td>    1.913</td> <td> 0.067</td> <td>-1869.999</td> <td> 5.07e+04</td>\n",
       "</tr>\n",
       "<tr>\n",
       "  <th>2018</th>      <td>-9947.6394</td> <td> 9601.278</td> <td>   -1.036</td> <td> 0.310</td> <td>-2.97e+04</td> <td> 9826.563</td>\n",
       "</tr>\n",
       "<tr>\n",
       "  <th>2017</th>      <td> 2.473e+04</td> <td> 1.46e+04</td> <td>    1.698</td> <td> 0.102</td> <td>-5274.817</td> <td> 5.47e+04</td>\n",
       "</tr>\n",
       "<tr>\n",
       "  <th>2016</th>      <td> 4.182e+04</td> <td> 2.82e+04</td> <td>    1.485</td> <td> 0.150</td> <td>-1.62e+04</td> <td> 9.98e+04</td>\n",
       "</tr>\n",
       "<tr>\n",
       "  <th>2015</th>      <td> 4810.5649</td> <td> 1.92e+04</td> <td>    0.251</td> <td> 0.804</td> <td>-3.47e+04</td> <td> 4.44e+04</td>\n",
       "</tr>\n",
       "<tr>\n",
       "  <th>2014</th>      <td>-1.129e+04</td> <td> 1.42e+04</td> <td>   -0.794</td> <td> 0.434</td> <td>-4.06e+04</td> <td>  1.8e+04</td>\n",
       "</tr>\n",
       "<tr>\n",
       "  <th>2013</th>      <td>   73.3121</td> <td> 1.83e+04</td> <td>    0.004</td> <td> 0.997</td> <td>-3.76e+04</td> <td> 3.78e+04</td>\n",
       "</tr>\n",
       "<tr>\n",
       "  <th>2012</th>      <td>-2.587e+04</td> <td> 1.92e+04</td> <td>   -1.347</td> <td> 0.190</td> <td>-6.54e+04</td> <td> 1.37e+04</td>\n",
       "</tr>\n",
       "<tr>\n",
       "  <th>2011</th>      <td> 1.603e+04</td> <td> 2.59e+04</td> <td>    0.618</td> <td> 0.542</td> <td>-3.74e+04</td> <td> 6.95e+04</td>\n",
       "</tr>\n",
       "<tr>\n",
       "  <th>AL</th>        <td>-4215.5720</td> <td> 3378.185</td> <td>   -1.248</td> <td> 0.224</td> <td>-1.12e+04</td> <td> 2741.931</td>\n",
       "</tr>\n",
       "<tr>\n",
       "  <th>AZ</th>        <td> 7955.2734</td> <td> 1.07e+04</td> <td>    0.746</td> <td> 0.462</td> <td> -1.4e+04</td> <td> 2.99e+04</td>\n",
       "</tr>\n",
       "<tr>\n",
       "  <th>CA</th>        <td> 1.789e+04</td> <td> 1.94e+04</td> <td>    0.920</td> <td> 0.366</td> <td>-2.21e+04</td> <td> 5.79e+04</td>\n",
       "</tr>\n",
       "<tr>\n",
       "  <th>CO</th>        <td>-2952.9350</td> <td>  462.934</td> <td>   -6.379</td> <td> 0.000</td> <td>-3906.366</td> <td>-1999.504</td>\n",
       "</tr>\n",
       "<tr>\n",
       "  <th>FL</th>        <td>-4197.1367</td> <td> 6667.425</td> <td>   -0.629</td> <td> 0.535</td> <td>-1.79e+04</td> <td> 9534.683</td>\n",
       "</tr>\n",
       "<tr>\n",
       "  <th>GA</th>        <td> -565.9265</td> <td> 4057.199</td> <td>   -0.139</td> <td> 0.890</td> <td>-8921.885</td> <td> 7790.032</td>\n",
       "</tr>\n",
       "<tr>\n",
       "  <th>HI</th>        <td> 1.579e+04</td> <td> 1.93e+04</td> <td>    0.817</td> <td> 0.421</td> <td> -2.4e+04</td> <td> 5.56e+04</td>\n",
       "</tr>\n",
       "<tr>\n",
       "  <th>IA</th>        <td>-2927.9608</td> <td> 3942.747</td> <td>   -0.743</td> <td> 0.465</td> <td> -1.1e+04</td> <td> 5192.279</td>\n",
       "</tr>\n",
       "<tr>\n",
       "  <th>IL</th>        <td> 3938.4277</td> <td> 5288.806</td> <td>    0.745</td> <td> 0.463</td> <td>-6954.072</td> <td> 1.48e+04</td>\n",
       "</tr>\n",
       "<tr>\n",
       "  <th>IN</th>        <td>-6910.4054</td> <td> 5531.425</td> <td>   -1.249</td> <td> 0.223</td> <td>-1.83e+04</td> <td> 4481.779</td>\n",
       "</tr>\n",
       "<tr>\n",
       "  <th>KS</th>        <td>-2952.9350</td> <td>  462.934</td> <td>   -6.379</td> <td> 0.000</td> <td>-3906.366</td> <td>-1999.504</td>\n",
       "</tr>\n",
       "<tr>\n",
       "  <th>KY</th>        <td>-2167.5135</td> <td> 4885.951</td> <td>   -0.444</td> <td> 0.661</td> <td>-1.22e+04</td> <td> 7895.290</td>\n",
       "</tr>\n",
       "<tr>\n",
       "  <th>LA</th>        <td> -2.08e+04</td> <td> 1.52e+04</td> <td>   -1.369</td> <td> 0.183</td> <td>-5.21e+04</td> <td> 1.05e+04</td>\n",
       "</tr>\n",
       "<tr>\n",
       "  <th>MA</th>        <td>-6730.8310</td> <td> 7783.173</td> <td>   -0.865</td> <td> 0.395</td> <td>-2.28e+04</td> <td> 9298.913</td>\n",
       "</tr>\n",
       "<tr>\n",
       "  <th>MI</th>        <td>-3903.4226</td> <td> 9006.778</td> <td>   -0.433</td> <td> 0.668</td> <td>-2.25e+04</td> <td> 1.46e+04</td>\n",
       "</tr>\n",
       "<tr>\n",
       "  <th>MN</th>        <td> 4632.3150</td> <td> 7102.710</td> <td>    0.652</td> <td> 0.520</td> <td>-9995.991</td> <td> 1.93e+04</td>\n",
       "</tr>\n",
       "<tr>\n",
       "  <th>MO</th>        <td>-1970.1981</td> <td> 2873.577</td> <td>   -0.686</td> <td> 0.499</td> <td>-7888.441</td> <td> 3948.045</td>\n",
       "</tr>\n",
       "<tr>\n",
       "  <th>NC</th>        <td>-2952.9350</td> <td>  462.934</td> <td>   -6.379</td> <td> 0.000</td> <td>-3906.366</td> <td>-1999.504</td>\n",
       "</tr>\n",
       "<tr>\n",
       "  <th>ND</th>        <td>-3232.1197</td> <td> 5465.825</td> <td>   -0.591</td> <td> 0.560</td> <td>-1.45e+04</td> <td> 8024.957</td>\n",
       "</tr>\n",
       "<tr>\n",
       "  <th>NE</th>        <td>-2952.9350</td> <td>  462.934</td> <td>   -6.379</td> <td> 0.000</td> <td>-3906.366</td> <td>-1999.504</td>\n",
       "</tr>\n",
       "<tr>\n",
       "  <th>NJ</th>        <td>-2952.9350</td> <td>  462.934</td> <td>   -6.379</td> <td> 0.000</td> <td>-3906.366</td> <td>-1999.504</td>\n",
       "</tr>\n",
       "<tr>\n",
       "  <th>NM</th>        <td> 4317.7765</td> <td> 4215.080</td> <td>    1.024</td> <td> 0.315</td> <td>-4363.344</td> <td>  1.3e+04</td>\n",
       "</tr>\n",
       "<tr>\n",
       "  <th>NV</th>        <td> 7837.3412</td> <td> 8140.703</td> <td>    0.963</td> <td> 0.345</td> <td>-8928.749</td> <td> 2.46e+04</td>\n",
       "</tr>\n",
       "<tr>\n",
       "  <th>NY</th>        <td>-7246.5068</td> <td> 1.54e+04</td> <td>   -0.472</td> <td> 0.641</td> <td>-3.89e+04</td> <td> 2.44e+04</td>\n",
       "</tr>\n",
       "<tr>\n",
       "  <th>OH</th>        <td> 3392.8452</td> <td> 1.94e+04</td> <td>    0.175</td> <td> 0.863</td> <td>-3.66e+04</td> <td> 4.34e+04</td>\n",
       "</tr>\n",
       "<tr>\n",
       "  <th>OK</th>        <td> 5743.2338</td> <td> 3322.442</td> <td>    1.729</td> <td> 0.096</td> <td>-1099.463</td> <td> 1.26e+04</td>\n",
       "</tr>\n",
       "<tr>\n",
       "  <th>OR</th>        <td>-2952.9350</td> <td>  462.934</td> <td>   -6.379</td> <td> 0.000</td> <td>-3906.366</td> <td>-1999.504</td>\n",
       "</tr>\n",
       "<tr>\n",
       "  <th>PA</th>        <td>-8911.7960</td> <td> 1.07e+04</td> <td>   -0.834</td> <td> 0.412</td> <td>-3.09e+04</td> <td> 1.31e+04</td>\n",
       "</tr>\n",
       "<tr>\n",
       "  <th>PR</th>        <td>-3105.0882</td> <td> 7643.659</td> <td>   -0.406</td> <td> 0.688</td> <td>-1.88e+04</td> <td> 1.26e+04</td>\n",
       "</tr>\n",
       "<tr>\n",
       "  <th>SC</th>        <td>-4578.6618</td> <td> 4200.386</td> <td>   -1.090</td> <td> 0.286</td> <td>-1.32e+04</td> <td> 4072.196</td>\n",
       "</tr>\n",
       "<tr>\n",
       "  <th>TN</th>        <td>-1.803e+04</td> <td> 8590.242</td> <td>   -2.099</td> <td> 0.046</td> <td>-3.57e+04</td> <td> -335.128</td>\n",
       "</tr>\n",
       "<tr>\n",
       "  <th>TX</th>        <td> 5000.5162</td> <td> 9411.910</td> <td>    0.531</td> <td> 0.600</td> <td>-1.44e+04</td> <td> 2.44e+04</td>\n",
       "</tr>\n",
       "<tr>\n",
       "  <th>UT</th>        <td>   87.4956</td> <td> 5101.276</td> <td>    0.017</td> <td> 0.986</td> <td>-1.04e+04</td> <td> 1.06e+04</td>\n",
       "</tr>\n",
       "<tr>\n",
       "  <th>VA</th>        <td>-5078.9558</td> <td> 5674.489</td> <td>   -0.895</td> <td> 0.379</td> <td>-1.68e+04</td> <td> 6607.872</td>\n",
       "</tr>\n",
       "<tr>\n",
       "  <th>VT</th>        <td>-4709.8714</td> <td> 7359.155</td> <td>   -0.640</td> <td> 0.528</td> <td>-1.99e+04</td> <td> 1.04e+04</td>\n",
       "</tr>\n",
       "<tr>\n",
       "  <th>WA</th>        <td> 1.131e+04</td> <td> 1.25e+04</td> <td>    0.908</td> <td> 0.373</td> <td>-1.43e+04</td> <td> 3.69e+04</td>\n",
       "</tr>\n",
       "</table>\n",
       "<table class=\"simpletable\">\n",
       "<tr>\n",
       "  <th>Omnibus:</th>       <td>25.118</td> <th>  Durbin-Watson:     </th> <td>   1.788</td>\n",
       "</tr>\n",
       "<tr>\n",
       "  <th>Prob(Omnibus):</th> <td> 0.000</td> <th>  Jarque-Bera (JB):  </th> <td> 116.013</td>\n",
       "</tr>\n",
       "<tr>\n",
       "  <th>Skew:</th>          <td> 0.824</td> <th>  Prob(JB):          </th> <td>6.43e-26</td>\n",
       "</tr>\n",
       "<tr>\n",
       "  <th>Kurtosis:</th>      <td> 9.282</td> <th>  Cond. No.          </th> <td>1.73e+16</td>\n",
       "</tr>\n",
       "</table><br/><br/>Notes:<br/>[1] Standard Errors assume that the covariance matrix of the errors is correctly specified.<br/>[2] The smallest eigenvalue is 1.33e-30. This might indicate that there are<br/>strong multicollinearity problems or that the design matrix is singular."
      ],
      "text/plain": [
       "<class 'statsmodels.iolib.summary.Summary'>\n",
       "\"\"\"\n",
       "                            OLS Regression Results                            \n",
       "==============================================================================\n",
       "Dep. Variable:                   2020   R-squared:                       0.815\n",
       "Model:                            OLS   Adj. R-squared:                  0.519\n",
       "Method:                 Least Squares   F-statistic:                     2.751\n",
       "Date:                Wed, 03 Aug 2022   Prob (F-statistic):            0.00457\n",
       "Time:                        19:15:49   Log-Likelihood:                -724.60\n",
       "No. Observations:                  66   AIC:                             1531.\n",
       "Df Residuals:                      25   BIC:                             1621.\n",
       "Df Model:                          40                                         \n",
       "Covariance Type:            nonrobust                                         \n",
       "==============================================================================\n",
       "                 coef    std err          t      P>|t|      [0.025      0.975]\n",
       "------------------------------------------------------------------------------\n",
       "const        2.77e+04   4342.707      6.379      0.000    1.88e+04    3.66e+04\n",
       "Latitude    6053.6565   2.02e+04      0.300      0.767   -3.55e+04    4.76e+04\n",
       "Longitude   3.447e+04   4.08e+04      0.845      0.406   -4.95e+04    1.18e+05\n",
       "2019         2.44e+04   1.28e+04      1.913      0.067   -1869.999    5.07e+04\n",
       "2018       -9947.6394   9601.278     -1.036      0.310   -2.97e+04    9826.563\n",
       "2017        2.473e+04   1.46e+04      1.698      0.102   -5274.817    5.47e+04\n",
       "2016        4.182e+04   2.82e+04      1.485      0.150   -1.62e+04    9.98e+04\n",
       "2015        4810.5649   1.92e+04      0.251      0.804   -3.47e+04    4.44e+04\n",
       "2014       -1.129e+04   1.42e+04     -0.794      0.434   -4.06e+04     1.8e+04\n",
       "2013          73.3121   1.83e+04      0.004      0.997   -3.76e+04    3.78e+04\n",
       "2012       -2.587e+04   1.92e+04     -1.347      0.190   -6.54e+04    1.37e+04\n",
       "2011        1.603e+04   2.59e+04      0.618      0.542   -3.74e+04    6.95e+04\n",
       "AL         -4215.5720   3378.185     -1.248      0.224   -1.12e+04    2741.931\n",
       "AZ          7955.2734   1.07e+04      0.746      0.462    -1.4e+04    2.99e+04\n",
       "CA          1.789e+04   1.94e+04      0.920      0.366   -2.21e+04    5.79e+04\n",
       "CO         -2952.9350    462.934     -6.379      0.000   -3906.366   -1999.504\n",
       "FL         -4197.1367   6667.425     -0.629      0.535   -1.79e+04    9534.683\n",
       "GA          -565.9265   4057.199     -0.139      0.890   -8921.885    7790.032\n",
       "HI          1.579e+04   1.93e+04      0.817      0.421    -2.4e+04    5.56e+04\n",
       "IA         -2927.9608   3942.747     -0.743      0.465    -1.1e+04    5192.279\n",
       "IL          3938.4277   5288.806      0.745      0.463   -6954.072    1.48e+04\n",
       "IN         -6910.4054   5531.425     -1.249      0.223   -1.83e+04    4481.779\n",
       "KS         -2952.9350    462.934     -6.379      0.000   -3906.366   -1999.504\n",
       "KY         -2167.5135   4885.951     -0.444      0.661   -1.22e+04    7895.290\n",
       "LA          -2.08e+04   1.52e+04     -1.369      0.183   -5.21e+04    1.05e+04\n",
       "MA         -6730.8310   7783.173     -0.865      0.395   -2.28e+04    9298.913\n",
       "MI         -3903.4226   9006.778     -0.433      0.668   -2.25e+04    1.46e+04\n",
       "MN          4632.3150   7102.710      0.652      0.520   -9995.991    1.93e+04\n",
       "MO         -1970.1981   2873.577     -0.686      0.499   -7888.441    3948.045\n",
       "NC         -2952.9350    462.934     -6.379      0.000   -3906.366   -1999.504\n",
       "ND         -3232.1197   5465.825     -0.591      0.560   -1.45e+04    8024.957\n",
       "NE         -2952.9350    462.934     -6.379      0.000   -3906.366   -1999.504\n",
       "NJ         -2952.9350    462.934     -6.379      0.000   -3906.366   -1999.504\n",
       "NM          4317.7765   4215.080      1.024      0.315   -4363.344     1.3e+04\n",
       "NV          7837.3412   8140.703      0.963      0.345   -8928.749    2.46e+04\n",
       "NY         -7246.5068   1.54e+04     -0.472      0.641   -3.89e+04    2.44e+04\n",
       "OH          3392.8452   1.94e+04      0.175      0.863   -3.66e+04    4.34e+04\n",
       "OK          5743.2338   3322.442      1.729      0.096   -1099.463    1.26e+04\n",
       "OR         -2952.9350    462.934     -6.379      0.000   -3906.366   -1999.504\n",
       "PA         -8911.7960   1.07e+04     -0.834      0.412   -3.09e+04    1.31e+04\n",
       "PR         -3105.0882   7643.659     -0.406      0.688   -1.88e+04    1.26e+04\n",
       "SC         -4578.6618   4200.386     -1.090      0.286   -1.32e+04    4072.196\n",
       "TN         -1.803e+04   8590.242     -2.099      0.046   -3.57e+04    -335.128\n",
       "TX          5000.5162   9411.910      0.531      0.600   -1.44e+04    2.44e+04\n",
       "UT            87.4956   5101.276      0.017      0.986   -1.04e+04    1.06e+04\n",
       "VA         -5078.9558   5674.489     -0.895      0.379   -1.68e+04    6607.872\n",
       "VT         -4709.8714   7359.155     -0.640      0.528   -1.99e+04    1.04e+04\n",
       "WA          1.131e+04   1.25e+04      0.908      0.373   -1.43e+04    3.69e+04\n",
       "==============================================================================\n",
       "Omnibus:                       25.118   Durbin-Watson:                   1.788\n",
       "Prob(Omnibus):                  0.000   Jarque-Bera (JB):              116.013\n",
       "Skew:                           0.824   Prob(JB):                     6.43e-26\n",
       "Kurtosis:                       9.282   Cond. No.                     1.73e+16\n",
       "==============================================================================\n",
       "\n",
       "Notes:\n",
       "[1] Standard Errors assume that the covariance matrix of the errors is correctly specified.\n",
       "[2] The smallest eigenvalue is 1.33e-30. This might indicate that there are\n",
       "strong multicollinearity problems or that the design matrix is singular.\n",
       "\"\"\""
      ]
     },
     "execution_count": 13,
     "metadata": {},
     "output_type": "execute_result"
    }
   ],
   "source": [
    "rModel_sf6 = sm.OLS(df_sf6_y_train, df_sf6_X_train)\n",
    "rModel_sf6_results = rModel_sf6.fit()\n",
    "rModel_sf6_results.summary()"
   ]
  },
  {
   "cell_type": "markdown",
   "id": "6dfa2f48",
   "metadata": {},
   "source": [
    "### R-squared value is .815 for the SF6 dataset, which shows the possibility for improvement to the model."
   ]
  },
  {
   "cell_type": "code",
   "execution_count": 14,
   "id": "f1ba6807",
   "metadata": {},
   "outputs": [
    {
     "data": {
      "text/html": [
       "<table class=\"simpletable\">\n",
       "<caption>OLS Regression Results</caption>\n",
       "<tr>\n",
       "  <th>Dep. Variable:</th>          <td>2020</td>       <th>  R-squared:         </th> <td>   0.999</td>\n",
       "</tr>\n",
       "<tr>\n",
       "  <th>Model:</th>                   <td>OLS</td>       <th>  Adj. R-squared:    </th> <td>   0.998</td>\n",
       "</tr>\n",
       "<tr>\n",
       "  <th>Method:</th>             <td>Least Squares</td>  <th>  F-statistic:       </th> <td>   944.9</td>\n",
       "</tr>\n",
       "<tr>\n",
       "  <th>Date:</th>             <td>Wed, 03 Aug 2022</td> <th>  Prob (F-statistic):</th> <td>1.14e-83</td>\n",
       "</tr>\n",
       "<tr>\n",
       "  <th>Time:</th>                 <td>19:15:49</td>     <th>  Log-Likelihood:    </th> <td> -1247.1</td>\n",
       "</tr>\n",
       "<tr>\n",
       "  <th>No. Observations:</th>      <td>   123</td>      <th>  AIC:               </th> <td>   2600.</td>\n",
       "</tr>\n",
       "<tr>\n",
       "  <th>Df Residuals:</th>          <td>    70</td>      <th>  BIC:               </th> <td>   2749.</td>\n",
       "</tr>\n",
       "<tr>\n",
       "  <th>Df Model:</th>              <td>    52</td>      <th>                     </th>     <td> </td>   \n",
       "</tr>\n",
       "<tr>\n",
       "  <th>Covariance Type:</th>      <td>nonrobust</td>    <th>                     </th>     <td> </td>   \n",
       "</tr>\n",
       "</table>\n",
       "<table class=\"simpletable\">\n",
       "<tr>\n",
       "      <td></td>         <th>coef</th>     <th>std err</th>      <th>t</th>      <th>P>|t|</th>  <th>[0.025</th>    <th>0.975]</th>  \n",
       "</tr>\n",
       "<tr>\n",
       "  <th>const</th>     <td> 7.751e+04</td> <td>  809.544</td> <td>   95.750</td> <td> 0.000</td> <td> 7.59e+04</td> <td> 7.91e+04</td>\n",
       "</tr>\n",
       "<tr>\n",
       "  <th>Latitude</th>  <td>-2851.2681</td> <td> 3789.634</td> <td>   -0.752</td> <td> 0.454</td> <td>-1.04e+04</td> <td> 4706.919</td>\n",
       "</tr>\n",
       "<tr>\n",
       "  <th>Longitude</th> <td>  578.4717</td> <td> 7429.644</td> <td>    0.078</td> <td> 0.938</td> <td>-1.42e+04</td> <td> 1.54e+04</td>\n",
       "</tr>\n",
       "<tr>\n",
       "  <th>2019</th>      <td> 1.608e+05</td> <td> 1.81e+04</td> <td>    8.870</td> <td> 0.000</td> <td> 1.25e+05</td> <td> 1.97e+05</td>\n",
       "</tr>\n",
       "<tr>\n",
       "  <th>2018</th>      <td>-1.125e+04</td> <td> 2.46e+04</td> <td>   -0.456</td> <td> 0.649</td> <td>-6.04e+04</td> <td> 3.79e+04</td>\n",
       "</tr>\n",
       "<tr>\n",
       "  <th>2017</th>      <td> 1.077e+04</td> <td>  2.1e+04</td> <td>    0.512</td> <td> 0.610</td> <td>-3.12e+04</td> <td> 5.27e+04</td>\n",
       "</tr>\n",
       "<tr>\n",
       "  <th>2016</th>      <td> 2.392e+04</td> <td> 3.03e+04</td> <td>    0.789</td> <td> 0.433</td> <td>-3.66e+04</td> <td> 8.44e+04</td>\n",
       "</tr>\n",
       "<tr>\n",
       "  <th>2015</th>      <td>-6.189e+04</td> <td> 2.98e+04</td> <td>   -2.080</td> <td> 0.041</td> <td>-1.21e+05</td> <td>-2534.734</td>\n",
       "</tr>\n",
       "<tr>\n",
       "  <th>2014</th>      <td> 2210.6435</td> <td> 1.07e+04</td> <td>    0.206</td> <td> 0.837</td> <td>-1.91e+04</td> <td> 2.36e+04</td>\n",
       "</tr>\n",
       "<tr>\n",
       "  <th>2013</th>      <td> 1.003e+04</td> <td> 1.14e+04</td> <td>    0.880</td> <td> 0.382</td> <td>-1.27e+04</td> <td> 3.27e+04</td>\n",
       "</tr>\n",
       "<tr>\n",
       "  <th>2012</th>      <td>  1.12e+04</td> <td> 7115.324</td> <td>    1.574</td> <td> 0.120</td> <td>-2989.932</td> <td> 2.54e+04</td>\n",
       "</tr>\n",
       "<tr>\n",
       "  <th>2011</th>      <td>-1897.5636</td> <td> 7129.442</td> <td>   -0.266</td> <td> 0.791</td> <td>-1.61e+04</td> <td> 1.23e+04</td>\n",
       "</tr>\n",
       "<tr>\n",
       "  <th>AL</th>        <td> -555.1757</td> <td> 1036.182</td> <td>   -0.536</td> <td> 0.594</td> <td>-2621.775</td> <td> 1511.424</td>\n",
       "</tr>\n",
       "<tr>\n",
       "  <th>AR</th>        <td> 4795.5884</td> <td>  949.750</td> <td>    5.049</td> <td> 0.000</td> <td> 2901.371</td> <td> 6689.806</td>\n",
       "</tr>\n",
       "<tr>\n",
       "  <th>AZ</th>        <td>   18.8965</td> <td> 1673.110</td> <td>    0.011</td> <td> 0.991</td> <td>-3318.017</td> <td> 3355.810</td>\n",
       "</tr>\n",
       "<tr>\n",
       "  <th>CA</th>        <td>  846.5516</td> <td> 2592.997</td> <td>    0.326</td> <td> 0.745</td> <td>-4325.017</td> <td> 6018.120</td>\n",
       "</tr>\n",
       "<tr>\n",
       "  <th>CO</th>        <td> 1704.2597</td> <td> 1357.731</td> <td>    1.255</td> <td> 0.214</td> <td>-1003.650</td> <td> 4412.170</td>\n",
       "</tr>\n",
       "<tr>\n",
       "  <th>CT</th>        <td> -119.8047</td> <td> 2079.151</td> <td>   -0.058</td> <td> 0.954</td> <td>-4266.541</td> <td> 4026.931</td>\n",
       "</tr>\n",
       "<tr>\n",
       "  <th>DE</th>        <td>  175.3793</td> <td> 1273.092</td> <td>    0.138</td> <td> 0.891</td> <td>-2363.722</td> <td> 2714.480</td>\n",
       "</tr>\n",
       "<tr>\n",
       "  <th>FL</th>        <td>-1208.5140</td> <td> 1518.556</td> <td>   -0.796</td> <td> 0.429</td> <td>-4237.179</td> <td> 1820.151</td>\n",
       "</tr>\n",
       "<tr>\n",
       "  <th>GA</th>        <td>  913.9540</td> <td>  721.051</td> <td>    1.268</td> <td> 0.209</td> <td> -524.136</td> <td> 2352.044</td>\n",
       "</tr>\n",
       "<tr>\n",
       "  <th>IA</th>        <td>  691.5308</td> <td>  915.744</td> <td>    0.755</td> <td> 0.453</td> <td>-1134.863</td> <td> 2517.924</td>\n",
       "</tr>\n",
       "<tr>\n",
       "  <th>ID</th>        <td>   90.8532</td> <td> 1332.683</td> <td>    0.068</td> <td> 0.946</td> <td>-2567.100</td> <td> 2748.806</td>\n",
       "</tr>\n",
       "<tr>\n",
       "  <th>IL</th>        <td>  172.9434</td> <td>  980.904</td> <td>    0.176</td> <td> 0.861</td> <td>-1783.408</td> <td> 2129.295</td>\n",
       "</tr>\n",
       "<tr>\n",
       "  <th>IN</th>        <td>  -84.2766</td> <td>  892.411</td> <td>   -0.094</td> <td> 0.925</td> <td>-1864.134</td> <td> 1695.581</td>\n",
       "</tr>\n",
       "<tr>\n",
       "  <th>KS</th>        <td> -147.6672</td> <td>  984.680</td> <td>   -0.150</td> <td> 0.881</td> <td>-2111.549</td> <td> 1816.215</td>\n",
       "</tr>\n",
       "<tr>\n",
       "  <th>KY</th>        <td>  278.4362</td> <td>  789.142</td> <td>    0.353</td> <td> 0.725</td> <td>-1295.457</td> <td> 1852.329</td>\n",
       "</tr>\n",
       "<tr>\n",
       "  <th>LA</th>        <td> -497.4949</td> <td>  984.926</td> <td>   -0.505</td> <td> 0.615</td> <td>-2461.868</td> <td> 1466.878</td>\n",
       "</tr>\n",
       "<tr>\n",
       "  <th>MA</th>        <td>  593.6672</td> <td> 2295.624</td> <td>    0.259</td> <td> 0.797</td> <td>-3984.811</td> <td> 5172.146</td>\n",
       "</tr>\n",
       "<tr>\n",
       "  <th>MD</th>        <td>    4.4132</td> <td> 1241.849</td> <td>    0.004</td> <td> 0.997</td> <td>-2472.376</td> <td> 2481.202</td>\n",
       "</tr>\n",
       "<tr>\n",
       "  <th>MI</th>        <td>  695.8636</td> <td> 1248.250</td> <td>    0.557</td> <td> 0.579</td> <td>-1793.692</td> <td> 3185.419</td>\n",
       "</tr>\n",
       "<tr>\n",
       "  <th>MN</th>        <td> 1717.2715</td> <td> 1317.241</td> <td>    1.304</td> <td> 0.197</td> <td> -909.883</td> <td> 4344.426</td>\n",
       "</tr>\n",
       "<tr>\n",
       "  <th>MO</th>        <td>  -60.5915</td> <td>  826.240</td> <td>   -0.073</td> <td> 0.942</td> <td>-1708.476</td> <td> 1587.293</td>\n",
       "</tr>\n",
       "<tr>\n",
       "  <th>MS</th>        <td>-6071.3556</td> <td>   63.408</td> <td>  -95.750</td> <td> 0.000</td> <td>-6197.820</td> <td>-5944.891</td>\n",
       "</tr>\n",
       "<tr>\n",
       "  <th>MT</th>        <td>  968.1465</td> <td> 2054.071</td> <td>    0.471</td> <td> 0.639</td> <td>-3128.569</td> <td> 5064.862</td>\n",
       "</tr>\n",
       "<tr>\n",
       "  <th>NC</th>        <td>   90.2269</td> <td> 1102.139</td> <td>    0.082</td> <td> 0.935</td> <td>-2107.919</td> <td> 2288.373</td>\n",
       "</tr>\n",
       "<tr>\n",
       "  <th>NE</th>        <td>-1923.9914</td> <td>  997.511</td> <td>   -1.929</td> <td> 0.058</td> <td>-3913.464</td> <td>   65.481</td>\n",
       "</tr>\n",
       "<tr>\n",
       "  <th>NJ</th>        <td>-1371.0545</td> <td> 1582.015</td> <td>   -0.867</td> <td> 0.389</td> <td>-4526.284</td> <td> 1784.175</td>\n",
       "</tr>\n",
       "<tr>\n",
       "  <th>NM</th>        <td> -388.4085</td> <td> 1444.032</td> <td>   -0.269</td> <td> 0.789</td> <td>-3268.440</td> <td> 2491.623</td>\n",
       "</tr>\n",
       "<tr>\n",
       "  <th>NV</th>        <td>  312.6463</td> <td> 2160.226</td> <td>    0.145</td> <td> 0.885</td> <td>-3995.790</td> <td> 4621.082</td>\n",
       "</tr>\n",
       "<tr>\n",
       "  <th>NY</th>        <td>  424.7274</td> <td> 2079.324</td> <td>    0.204</td> <td> 0.839</td> <td>-3722.355</td> <td> 4571.809</td>\n",
       "</tr>\n",
       "<tr>\n",
       "  <th>OH</th>        <td> -241.7656</td> <td> 1983.512</td> <td>   -0.122</td> <td> 0.903</td> <td>-4197.756</td> <td> 3714.224</td>\n",
       "</tr>\n",
       "<tr>\n",
       "  <th>OK</th>        <td> -310.7276</td> <td>  775.290</td> <td>   -0.401</td> <td> 0.690</td> <td>-1856.994</td> <td> 1235.539</td>\n",
       "</tr>\n",
       "<tr>\n",
       "  <th>OR</th>        <td>  812.1040</td> <td> 2111.592</td> <td>    0.385</td> <td> 0.702</td> <td>-3399.334</td> <td> 5023.542</td>\n",
       "</tr>\n",
       "<tr>\n",
       "  <th>PA</th>        <td>  902.4825</td> <td> 1595.829</td> <td>    0.566</td> <td> 0.574</td> <td>-2280.297</td> <td> 4085.262</td>\n",
       "</tr>\n",
       "<tr>\n",
       "  <th>RI</th>        <td>  -49.1627</td> <td> 1090.038</td> <td>   -0.045</td> <td> 0.964</td> <td>-2223.174</td> <td> 2124.849</td>\n",
       "</tr>\n",
       "<tr>\n",
       "  <th>SC</th>        <td>-4104.4262</td> <td>  923.732</td> <td>   -4.443</td> <td> 0.000</td> <td>-5946.752</td> <td>-2262.101</td>\n",
       "</tr>\n",
       "<tr>\n",
       "  <th>TN</th>        <td> -912.1906</td> <td>  961.512</td> <td>   -0.949</td> <td> 0.346</td> <td>-2829.867</td> <td> 1005.486</td>\n",
       "</tr>\n",
       "<tr>\n",
       "  <th>TX</th>        <td> -665.8957</td> <td> 2609.460</td> <td>   -0.255</td> <td> 0.799</td> <td>-5870.299</td> <td> 4538.507</td>\n",
       "</tr>\n",
       "<tr>\n",
       "  <th>UT</th>        <td> 1056.1155</td> <td> 1591.205</td> <td>    0.664</td> <td> 0.509</td> <td>-2117.443</td> <td> 4229.674</td>\n",
       "</tr>\n",
       "<tr>\n",
       "  <th>VA</th>        <td> -182.1508</td> <td> 1483.064</td> <td>   -0.123</td> <td> 0.903</td> <td>-3140.029</td> <td> 2775.727</td>\n",
       "</tr>\n",
       "<tr>\n",
       "  <th>VT</th>        <td> -102.0086</td> <td> 1478.798</td> <td>   -0.069</td> <td> 0.945</td> <td>-3051.378</td> <td> 2847.361</td>\n",
       "</tr>\n",
       "<tr>\n",
       "  <th>WA</th>        <td> 1503.3764</td> <td> 2419.151</td> <td>    0.621</td> <td> 0.536</td> <td>-3321.469</td> <td> 6328.222</td>\n",
       "</tr>\n",
       "<tr>\n",
       "  <th>WI</th>        <td>  810.8383</td> <td> 1287.919</td> <td>    0.630</td> <td> 0.531</td> <td>-1757.835</td> <td> 3379.512</td>\n",
       "</tr>\n",
       "<tr>\n",
       "  <th>WV</th>        <td>  177.8005</td> <td> 1013.525</td> <td>    0.175</td> <td> 0.861</td> <td>-1843.612</td> <td> 2199.213</td>\n",
       "</tr>\n",
       "</table>\n",
       "<table class=\"simpletable\">\n",
       "<tr>\n",
       "  <th>Omnibus:</th>       <td>115.930</td> <th>  Durbin-Watson:     </th> <td>   2.552</td>\n",
       "</tr>\n",
       "<tr>\n",
       "  <th>Prob(Omnibus):</th> <td> 0.000</td>  <th>  Jarque-Bera (JB):  </th> <td>5397.618</td>\n",
       "</tr>\n",
       "<tr>\n",
       "  <th>Skew:</th>          <td>-2.620</td>  <th>  Prob(JB):          </th> <td>    0.00</td>\n",
       "</tr>\n",
       "<tr>\n",
       "  <th>Kurtosis:</th>      <td>35.027</td>  <th>  Cond. No.          </th> <td>4.78e+16</td>\n",
       "</tr>\n",
       "</table><br/><br/>Notes:<br/>[1] Standard Errors assume that the covariance matrix of the errors is correctly specified.<br/>[2] The smallest eigenvalue is 6.27e-31. This might indicate that there are<br/>strong multicollinearity problems or that the design matrix is singular."
      ],
      "text/plain": [
       "<class 'statsmodels.iolib.summary.Summary'>\n",
       "\"\"\"\n",
       "                            OLS Regression Results                            \n",
       "==============================================================================\n",
       "Dep. Variable:                   2020   R-squared:                       0.999\n",
       "Model:                            OLS   Adj. R-squared:                  0.998\n",
       "Method:                 Least Squares   F-statistic:                     944.9\n",
       "Date:                Wed, 03 Aug 2022   Prob (F-statistic):           1.14e-83\n",
       "Time:                        19:15:49   Log-Likelihood:                -1247.1\n",
       "No. Observations:                 123   AIC:                             2600.\n",
       "Df Residuals:                      70   BIC:                             2749.\n",
       "Df Model:                          52                                         \n",
       "Covariance Type:            nonrobust                                         \n",
       "==============================================================================\n",
       "                 coef    std err          t      P>|t|      [0.025      0.975]\n",
       "------------------------------------------------------------------------------\n",
       "const       7.751e+04    809.544     95.750      0.000    7.59e+04    7.91e+04\n",
       "Latitude   -2851.2681   3789.634     -0.752      0.454   -1.04e+04    4706.919\n",
       "Longitude    578.4717   7429.644      0.078      0.938   -1.42e+04    1.54e+04\n",
       "2019        1.608e+05   1.81e+04      8.870      0.000    1.25e+05    1.97e+05\n",
       "2018       -1.125e+04   2.46e+04     -0.456      0.649   -6.04e+04    3.79e+04\n",
       "2017        1.077e+04    2.1e+04      0.512      0.610   -3.12e+04    5.27e+04\n",
       "2016        2.392e+04   3.03e+04      0.789      0.433   -3.66e+04    8.44e+04\n",
       "2015       -6.189e+04   2.98e+04     -2.080      0.041   -1.21e+05   -2534.734\n",
       "2014        2210.6435   1.07e+04      0.206      0.837   -1.91e+04    2.36e+04\n",
       "2013        1.003e+04   1.14e+04      0.880      0.382   -1.27e+04    3.27e+04\n",
       "2012         1.12e+04   7115.324      1.574      0.120   -2989.932    2.54e+04\n",
       "2011       -1897.5636   7129.442     -0.266      0.791   -1.61e+04    1.23e+04\n",
       "AL          -555.1757   1036.182     -0.536      0.594   -2621.775    1511.424\n",
       "AR          4795.5884    949.750      5.049      0.000    2901.371    6689.806\n",
       "AZ            18.8965   1673.110      0.011      0.991   -3318.017    3355.810\n",
       "CA           846.5516   2592.997      0.326      0.745   -4325.017    6018.120\n",
       "CO          1704.2597   1357.731      1.255      0.214   -1003.650    4412.170\n",
       "CT          -119.8047   2079.151     -0.058      0.954   -4266.541    4026.931\n",
       "DE           175.3793   1273.092      0.138      0.891   -2363.722    2714.480\n",
       "FL         -1208.5140   1518.556     -0.796      0.429   -4237.179    1820.151\n",
       "GA           913.9540    721.051      1.268      0.209    -524.136    2352.044\n",
       "IA           691.5308    915.744      0.755      0.453   -1134.863    2517.924\n",
       "ID            90.8532   1332.683      0.068      0.946   -2567.100    2748.806\n",
       "IL           172.9434    980.904      0.176      0.861   -1783.408    2129.295\n",
       "IN           -84.2766    892.411     -0.094      0.925   -1864.134    1695.581\n",
       "KS          -147.6672    984.680     -0.150      0.881   -2111.549    1816.215\n",
       "KY           278.4362    789.142      0.353      0.725   -1295.457    1852.329\n",
       "LA          -497.4949    984.926     -0.505      0.615   -2461.868    1466.878\n",
       "MA           593.6672   2295.624      0.259      0.797   -3984.811    5172.146\n",
       "MD             4.4132   1241.849      0.004      0.997   -2472.376    2481.202\n",
       "MI           695.8636   1248.250      0.557      0.579   -1793.692    3185.419\n",
       "MN          1717.2715   1317.241      1.304      0.197    -909.883    4344.426\n",
       "MO           -60.5915    826.240     -0.073      0.942   -1708.476    1587.293\n",
       "MS         -6071.3556     63.408    -95.750      0.000   -6197.820   -5944.891\n",
       "MT           968.1465   2054.071      0.471      0.639   -3128.569    5064.862\n",
       "NC            90.2269   1102.139      0.082      0.935   -2107.919    2288.373\n",
       "NE         -1923.9914    997.511     -1.929      0.058   -3913.464      65.481\n",
       "NJ         -1371.0545   1582.015     -0.867      0.389   -4526.284    1784.175\n",
       "NM          -388.4085   1444.032     -0.269      0.789   -3268.440    2491.623\n",
       "NV           312.6463   2160.226      0.145      0.885   -3995.790    4621.082\n",
       "NY           424.7274   2079.324      0.204      0.839   -3722.355    4571.809\n",
       "OH          -241.7656   1983.512     -0.122      0.903   -4197.756    3714.224\n",
       "OK          -310.7276    775.290     -0.401      0.690   -1856.994    1235.539\n",
       "OR           812.1040   2111.592      0.385      0.702   -3399.334    5023.542\n",
       "PA           902.4825   1595.829      0.566      0.574   -2280.297    4085.262\n",
       "RI           -49.1627   1090.038     -0.045      0.964   -2223.174    2124.849\n",
       "SC         -4104.4262    923.732     -4.443      0.000   -5946.752   -2262.101\n",
       "TN          -912.1906    961.512     -0.949      0.346   -2829.867    1005.486\n",
       "TX          -665.8957   2609.460     -0.255      0.799   -5870.299    4538.507\n",
       "UT          1056.1155   1591.205      0.664      0.509   -2117.443    4229.674\n",
       "VA          -182.1508   1483.064     -0.123      0.903   -3140.029    2775.727\n",
       "VT          -102.0086   1478.798     -0.069      0.945   -3051.378    2847.361\n",
       "WA          1503.3764   2419.151      0.621      0.536   -3321.469    6328.222\n",
       "WI           810.8383   1287.919      0.630      0.531   -1757.835    3379.512\n",
       "WV           177.8005   1013.525      0.175      0.861   -1843.612    2199.213\n",
       "==============================================================================\n",
       "Omnibus:                      115.930   Durbin-Watson:                   2.552\n",
       "Prob(Omnibus):                  0.000   Jarque-Bera (JB):             5397.618\n",
       "Skew:                          -2.620   Prob(JB):                         0.00\n",
       "Kurtosis:                      35.027   Cond. No.                     4.78e+16\n",
       "==============================================================================\n",
       "\n",
       "Notes:\n",
       "[1] Standard Errors assume that the covariance matrix of the errors is correctly specified.\n",
       "[2] The smallest eigenvalue is 6.27e-31. This might indicate that there are\n",
       "strong multicollinearity problems or that the design matrix is singular.\n",
       "\"\"\""
      ]
     },
     "execution_count": 14,
     "metadata": {},
     "output_type": "execute_result"
    }
   ],
   "source": [
    "rModel_ldc = sm.OLS(df_ldc_y_train, df_ldc_X_train)\n",
    "rModel_ldc_results = rModel_ldc.fit()\n",
    "rModel_ldc_results.summary()"
   ]
  },
  {
   "cell_type": "markdown",
   "id": "8d4f9cd0",
   "metadata": {},
   "source": [
    "### R-squared value is .999 for the LDC dataset, the model is doing the maximum best."
   ]
  },
  {
   "cell_type": "code",
   "execution_count": 15,
   "id": "3468bb19",
   "metadata": {},
   "outputs": [
    {
     "name": "stdout",
     "output_type": "stream",
     "text": [
      "                            OLS Regression Results                            \n",
      "==============================================================================\n",
      "Dep. Variable:                   2020   R-squared:                       0.755\n",
      "Model:                            OLS   Adj. R-squared:                  0.734\n",
      "Method:                 Least Squares   F-statistic:                     36.84\n",
      "Date:                Wed, 03 Aug 2022   Prob (F-statistic):           2.89e-82\n",
      "Time:                        19:15:49   Log-Likelihood:                -4718.8\n",
      "No. Observations:                 351   AIC:                             9494.\n",
      "Df Residuals:                     323   BIC:                             9602.\n",
      "Df Model:                          27                                         \n",
      "Covariance Type:            nonrobust                                         \n",
      "==============================================================================\n",
      "                 coef    std err          t      P>|t|      [0.025      0.975]\n",
      "------------------------------------------------------------------------------\n",
      "const       2.048e+05   9394.894     21.800      0.000    1.86e+05    2.23e+05\n",
      "Latitude    2290.8474   2.47e+04      0.093      0.926   -4.63e+04    5.09e+04\n",
      "Longitude   -4.71e+04   3.26e+04     -1.445      0.150   -1.11e+05     1.7e+04\n",
      "2019        1.944e+05   2.77e+04      7.008      0.000     1.4e+05    2.49e+05\n",
      "2018        3.878e+04   3.15e+04      1.231      0.219   -2.32e+04    1.01e+05\n",
      "2017        3.228e+04   2.92e+04      1.107      0.269   -2.51e+04    8.96e+04\n",
      "2016        6.059e+04   2.66e+04      2.281      0.023    8326.323    1.13e+05\n",
      "2015       -2.019e+04   3.01e+04     -0.671      0.503   -7.94e+04     3.9e+04\n",
      "2014       -5.983e+04   2.81e+04     -2.126      0.034   -1.15e+05   -4468.513\n",
      "2013         7.54e+04   3.12e+04      2.418      0.016    1.41e+04    1.37e+05\n",
      "2012        4038.6372   2.36e+04      0.171      0.864   -4.24e+04    5.05e+04\n",
      "2011       -2.389e+04   2.05e+04     -1.166      0.245   -6.42e+04    1.64e+04\n",
      "AK         -2.758e+04   2.57e+04     -1.073      0.284   -7.82e+04     2.3e+04\n",
      "AR          7863.6754   8390.627      0.937      0.349   -8643.505    2.44e+04\n",
      "CA         -1.681e+04   1.44e+04     -1.166      0.244   -4.52e+04    1.15e+04\n",
      "CO         -1.856e+04   9865.169     -1.881      0.061    -3.8e+04     850.226\n",
      "LA          1478.2356   8576.169      0.172      0.863   -1.54e+04    1.84e+04\n",
      "MI          8454.4863   1.32e+04      0.643      0.521   -1.74e+04    3.43e+04\n",
      "MS          1962.7759   8398.033      0.234      0.815   -1.46e+04    1.85e+04\n",
      "MT         -4031.5885   8171.534     -0.493      0.622   -2.01e+04     1.2e+04\n",
      "ND         -3133.5546   1.15e+04     -0.272      0.786   -2.58e+04    1.95e+04\n",
      "NM         -1735.7926   8594.273     -0.202      0.840   -1.86e+04    1.52e+04\n",
      "OH          1.433e+04   1.11e+04      1.291      0.197   -7501.248    3.62e+04\n",
      "OK           242.4599   8232.095      0.029      0.977    -1.6e+04    1.64e+04\n",
      "PA          1.969e+04   1.53e+04      1.284      0.200   -1.05e+04    4.99e+04\n",
      "TX           1.47e+04   1.18e+04      1.246      0.214   -8514.918    3.79e+04\n",
      "UT         -2273.7074   8370.179     -0.272      0.786   -1.87e+04    1.42e+04\n",
      "WV          8332.3661   1.25e+04      0.666      0.506   -1.63e+04    3.29e+04\n",
      "WY         -4662.0483   1.29e+04     -0.361      0.718      -3e+04    2.07e+04\n",
      "==============================================================================\n",
      "Omnibus:                      599.788   Durbin-Watson:                   1.987\n",
      "Prob(Omnibus):                  0.000   Jarque-Bera (JB):           305350.003\n",
      "Skew:                           9.532   Prob(JB):                         0.00\n",
      "Kurtosis:                     146.231   Cond. No.                     2.25e+15\n",
      "==============================================================================\n",
      "\n",
      "Notes:\n",
      "[1] Standard Errors assume that the covariance matrix of the errors is correctly specified.\n",
      "[2] The smallest eigenvalue is 5.31e-28. This might indicate that there are\n",
      "strong multicollinearity problems or that the design matrix is singular.\n"
     ]
    }
   ],
   "source": [
    "rModel_oog = sm.OLS(df_oog_y_train, df_oog_X_train)\n",
    "rModel_oog_results = rModel_oog.fit()\n",
    "print(rModel_oog_results.summary())"
   ]
  },
  {
   "cell_type": "markdown",
   "id": "c0f512e7",
   "metadata": {},
   "source": [
    "### R-squared value is .775 for the OOG dataset, the model has a lot of scope for improvement."
   ]
  },
  {
   "cell_type": "markdown",
   "id": "da606abe",
   "metadata": {},
   "source": [
    "# 8. Model 3: Random Forest Regressor Model"
   ]
  },
  {
   "cell_type": "code",
   "execution_count": 16,
   "id": "b3a159f4",
   "metadata": {},
   "outputs": [
    {
     "name": "stdout",
     "output_type": "stream",
     "text": [
      "RMSE for DE dataset:  359418.4770559491\n",
      "MAE for DE dataset:  91493.89489457145\n",
      "R-squared error for DE dataset:  0.9999997091002553\n"
     ]
    },
    {
     "data": {
      "image/png": "[encoded data removed]",
      "text/plain": [
       "<Figure size 432x288 with 1 Axes>"
      ]
     },
     "metadata": {
      "needs_background": "light"
     },
     "output_type": "display_data"
    }
   ],
   "source": [
    "reg = RandomForestRegressor(n_estimators=15, random_state = 1)\n",
    "de_train = np.ravel(df_de_y_train)\n",
    "rModel_de_res = reg.fit(df_de_X_train, de_train)\n",
    "de_pred = rModel_de_res.predict(df_de_X_test)\n",
    "de_test = np.ravel(df_de_y_test)\n",
    "plt.scatter(de_pred,de_test)\n",
    "\n",
    "\n",
    "rmse=np.sqrt(np.sum((de_pred - de_test)**2)/len(de_pred))\n",
    "print('RMSE for DE dataset: ',rmse)\n",
    "mae = np.sum(np.abs(de_pred - de_test))/len(de_pred)\n",
    "print('MAE for DE dataset: ',mae)\n",
    "den =np.sum((de_test-np.mean(de_test))**2)/len(de_test)\n",
    "print('R-squared error for DE dataset: ',1-(rmse/den))"
   ]
  },
  {
   "cell_type": "code",
   "execution_count": 17,
   "id": "eabda68a",
   "metadata": {},
   "outputs": [
    {
     "name": "stdout",
     "output_type": "stream",
     "text": [
      "[168746.95573333 134855.01652447   8762.19853333 ...  74775.85826667\n",
      "  49845.467       25320.8356    ] [193378.584 196779.85    4757.974 ...  96490.8    15247.804  18881.164]\n"
     ]
    }
   ],
   "source": [
    "print(de_pred, de_test)"
   ]
  },
  {
   "cell_type": "code",
   "execution_count": 18,
   "id": "2b9cab07",
   "metadata": {},
   "outputs": [
    {
     "name": "stdout",
     "output_type": "stream",
     "text": [
      "RMSE for OOG dataset:  167214.06641913997\n",
      "MAE for OOG dataset:  80872.30982692259\n",
      "R-squared error for OOG dataset:  0.99999716392448\n"
     ]
    },
    {
     "data": {
      "image/png": "[encoded data removed]",
      "text/plain": [
       "<Figure size 432x288 with 1 Axes>"
      ]
     },
     "metadata": {
      "needs_background": "light"
     },
     "output_type": "display_data"
    }
   ],
   "source": [
    "reg = RandomForestRegressor(n_estimators=15, random_state = 1)\n",
    "y_train = np.ravel(df_oog_y_train)\n",
    "model_oog_res = reg.fit(df_oog_X_train, y_train)\n",
    "oog_pred = model_oog_res.predict(df_oog_X_test)\n",
    "oog_test = np.ravel(df_oog_y_test)\n",
    "plt.scatter(oog_pred, oog_test)\n",
    "\n",
    "rmse=np.sqrt(np.sum((oog_pred - oog_test)**2)/len(oog_pred))\n",
    "print('RMSE for OOG dataset: ',rmse)\n",
    "mae = np.sum(np.abs(oog_pred - oog_test))/len(oog_pred)\n",
    "print('MAE for OOG dataset: ',mae)\n",
    "den =np.sum((oog_test-np.mean(oog_test))**2)/len(oog_test)\n",
    "print('R-squared error for OOG dataset: ',1-(rmse/den))"
   ]
  },
  {
   "cell_type": "code",
   "execution_count": 19,
   "id": "d6c31872",
   "metadata": {},
   "outputs": [
    {
     "name": "stdout",
     "output_type": "stream",
     "text": [
      "RMSE for LDC dataset:  5025.030076321013\n",
      "MAE for LDC dataset:  3086.2842569105683\n",
      "R-squared error for LDC dataset 0.9999969348431952\n"
     ]
    },
    {
     "data": {
      "image/png": "[encoded data removed]",
      "text/plain": [
       "<Figure size 432x288 with 1 Axes>"
      ]
     },
     "metadata": {
      "needs_background": "light"
     },
     "output_type": "display_data"
    }
   ],
   "source": [
    "reg = RandomForestRegressor(n_estimators=15, random_state = 1)\n",
    "ldc_train = np.ravel(df_ldc_y_train)\n",
    "rModel_ldc_res = reg.fit(df_ldc_X_train, ldc_train)\n",
    "ldc_pred = rModel_ldc_res.predict(df_ldc_X_test)\n",
    "ldc_test = np.ravel(df_ldc_y_test)\n",
    "plt.scatter(ldc_pred,ldc_test)\n",
    "\n",
    "\n",
    "rmse=np.sqrt(np.sum((ldc_pred - ldc_test)**2)/len(ldc_pred))\n",
    "print('RMSE for LDC dataset: ',rmse)\n",
    "mae = np.sum(np.abs(ldc_pred - ldc_test))/len(ldc_pred)\n",
    "print('MAE for LDC dataset: ',mae)\n",
    "den =np.sum((ldc_test-np.mean(ldc_test))**2)/len(ldc_test)\n",
    "print('R-squared error for LDC dataset', 1-(rmse/den))"
   ]
  },
  {
   "cell_type": "code",
   "execution_count": 20,
   "id": "7d673e86",
   "metadata": {},
   "outputs": [
    {
     "name": "stdout",
     "output_type": "stream",
     "text": [
      "RMSE for SF6 dataset:  37304.66170046136\n",
      "MAE for SF6 dataset:  21185.232321070238\n",
      "R-squared error for SF6 dataset: 0.9999878036751283\n"
     ]
    },
    {
     "data": {
      "image/png": "[encoded data removed]",
      "text/plain": [
       "<Figure size 432x288 with 1 Axes>"
      ]
     },
     "metadata": {
      "needs_background": "light"
     },
     "output_type": "display_data"
    }
   ],
   "source": [
    "reg = RandomForestRegressor(n_estimators=15, random_state = 1)\n",
    "sf6_train = np.ravel(df_sf6_y_train)\n",
    "rModel_sf6_res = reg.fit(df_sf6_X_train, sf6_train)\n",
    "sf6_pred = rModel_sf6_res.predict(df_sf6_X_test)\n",
    "sf6_test = np.ravel(df_sf6_y_test)\n",
    "plt.scatter(sf6_pred,sf6_test)\n",
    "\n",
    "\n",
    "rmse=np.sqrt(np.sum((sf6_pred - sf6_test)**2)/len(sf6_pred))\n",
    "print('RMSE for SF6 dataset: ',rmse)\n",
    "mae = np.sum(np.abs(sf6_pred - sf6_test))/len(sf6_pred)\n",
    "print('MAE for SF6 dataset: ',mae)\n",
    "den =np.sum((sf6_test-np.mean(sf6_test))**2)/len(sf6_test)\n",
    "print('R-squared error for SF6 dataset:', 1-(rmse/den))"
   ]
  },
  {
   "cell_type": "markdown",
   "id": "c40ffe30",
   "metadata": {},
   "source": [
    "### Random Forest Model is doing very well on all the four datasets."
   ]
  },
  {
   "cell_type": "markdown",
   "id": "7d0fd573",
   "metadata": {},
   "source": [
    "# 9. Comparison of performance metric R<sup>2</sup> of different models\n",
    "\n",
    "|Model Name|Hyperparamters|R<sup>2</sup> score|\n",
    "|:-|:-|:-|\n",
    "|OLS Linear Regression|||\n",
    "|DE||0.956|\n",
    "|SF6||0.815|\n",
    "|OOG||0.775|\n",
    "|LDC||0.999|\n",
    "|Random Forest|\n",
    "|All 4 datasets|n_estimators = 15|0.999|\n",
    "|Multi output Ridge Regressor|\n",
    "|All 4 datasets||0.999|\n"
   ]
  },
  {
   "cell_type": "markdown",
   "id": "d3036e32",
   "metadata": {},
   "source": [
    "## Building a Random Forest Model to predict the future 10 years emission"
   ]
  },
  {
   "cell_type": "code",
   "execution_count": 21,
   "id": "35c46120",
   "metadata": {},
   "outputs": [
    {
     "name": "stdout",
     "output_type": "stream",
     "text": [
      "RMSE for DE dataset:  116499.0729368651\n",
      "MAE for DE dataset:  28730.47531361095\n",
      "R-squared error for DE dataset:  0.9999998971832522\n"
     ]
    },
    {
     "data": {
      "image/png": "[encoded data removed]",
      "text/plain": [
       "<Figure size 432x288 with 1 Axes>"
      ]
     },
     "metadata": {
      "needs_background": "light"
     },
     "output_type": "display_data"
    }
   ],
   "source": [
    "reg = RandomForestRegressor(n_estimators=15, random_state = 1)\n",
    "\n",
    "de_train = np.ravel(df_de_y)\n",
    "rModel_de_res = reg.fit(df_de_X_s, de_train)\n",
    "de_pred = rModel_de_res.predict(df_de_X_s)\n",
    "de_test = np.ravel(df_de_y)\n",
    "plt.scatter(de_pred,de_test)\n",
    "\n",
    "rmse=np.sqrt(np.sum((de_pred - de_test)**2)/len(de_pred))\n",
    "print('RMSE for DE dataset: ',rmse)\n",
    "mae = np.sum(np.abs(de_pred - de_test))/len(de_pred)\n",
    "print('MAE for DE dataset: ',mae)\n",
    "den =np.sum((de_test-np.mean(de_test))**2)/len(de_test)\n",
    "print('R-squared error for DE dataset: ',1-(rmse/den))"
   ]
  },
  {
   "cell_type": "code",
   "execution_count": 22,
   "id": "991a3ca2",
   "metadata": {},
   "outputs": [
    {
     "name": "stdout",
     "output_type": "stream",
     "text": [
      "            2020\n",
      "0     504064.000\n",
      "1      60819.700\n",
      "2      40521.812\n",
      "3     100500.948\n",
      "4      29359.640\n",
      "...          ...\n",
      "6510   22359.122\n",
      "6511  325679.418\n",
      "6512       0.000\n",
      "6513  650907.100\n",
      "6514   89476.750\n",
      "\n",
      "[6515 rows x 1 columns]\n"
     ]
    }
   ],
   "source": [
    "print(df_de_y)"
   ]
  },
  {
   "cell_type": "code",
   "execution_count": 23,
   "id": "fc960d57",
   "metadata": {},
   "outputs": [],
   "source": [
    "years =  ['2020','2019', '2018', '2017', '2016','2015', '2014', '2013', '2012','2011']\n",
    "years_future = ['2020','2021','2022','2023','2024','2025','2026','2027','2028','2029']\n",
    "y_future = {}\n",
    "i=9\n",
    "X1=df_de_X_s.copy()\n",
    "df_de_y_ite = de_train\n",
    "for year in years_future:\n",
    "    rModel_de_res.fit(X1, df_de_y_ite)\n",
    "    y_pred = rModel_de_res.predict(X1)\n",
    "    #append the results to the dataframe\n",
    "    X1 = X1.drop([years[-1]],axis = 1)\n",
    "    X1[year] = y_pred\n",
    "    df_de_y_ite = y_pred\n",
    "    years.pop(i)\n",
    "    i=i-1\n",
    "rModel_de_res.fit(X1, df_de_y_ite)\n",
    "X1['2030'] =rModel_de_res.predict(X1)"
   ]
  },
  {
   "cell_type": "code",
   "execution_count": 24,
   "id": "6aaef23e",
   "metadata": {
    "scrolled": false
   },
   "outputs": [
    {
     "data": {
      "text/html": [
       "<div>\n",
       "<style scoped>\n",
       "    .dataframe tbody tr th:only-of-type {\n",
       "        vertical-align: middle;\n",
       "    }\n",
       "\n",
       "    .dataframe tbody tr th {\n",
       "        vertical-align: top;\n",
       "    }\n",
       "\n",
       "    .dataframe thead th {\n",
       "        text-align: right;\n",
       "    }\n",
       "</style>\n",
       "<table border=\"1\" class=\"dataframe\">\n",
       "  <thead>\n",
       "    <tr style=\"text-align: right;\">\n",
       "      <th></th>\n",
       "      <th>Latitude</th>\n",
       "      <th>Longitude</th>\n",
       "      <th>AK</th>\n",
       "      <th>AL</th>\n",
       "      <th>AR</th>\n",
       "      <th>AZ</th>\n",
       "      <th>CA</th>\n",
       "      <th>CO</th>\n",
       "      <th>CT</th>\n",
       "      <th>DC</th>\n",
       "      <th>...</th>\n",
       "      <th>2021</th>\n",
       "      <th>2022</th>\n",
       "      <th>2023</th>\n",
       "      <th>2024</th>\n",
       "      <th>2025</th>\n",
       "      <th>2026</th>\n",
       "      <th>2027</th>\n",
       "      <th>2028</th>\n",
       "      <th>2029</th>\n",
       "      <th>2030</th>\n",
       "    </tr>\n",
       "  </thead>\n",
       "  <tbody>\n",
       "    <tr>\n",
       "      <th>0</th>\n",
       "      <td>-0.671908</td>\n",
       "      <td>-0.242047</td>\n",
       "      <td>-0.098815</td>\n",
       "      <td>-0.164671</td>\n",
       "      <td>-0.124218</td>\n",
       "      <td>-0.117686</td>\n",
       "      <td>-0.247483</td>\n",
       "      <td>-0.132257</td>\n",
       "      <td>-0.078598</td>\n",
       "      <td>-0.024786</td>\n",
       "      <td>...</td>\n",
       "      <td>437919.076320</td>\n",
       "      <td>437968.067552</td>\n",
       "      <td>437946.003624</td>\n",
       "      <td>438082.359156</td>\n",
       "      <td>437713.133892</td>\n",
       "      <td>437924.212936</td>\n",
       "      <td>437816.460612</td>\n",
       "      <td>437654.821336</td>\n",
       "      <td>437840.893367</td>\n",
       "      <td>437760.498637</td>\n",
       "    </tr>\n",
       "    <tr>\n",
       "      <th>1</th>\n",
       "      <td>0.559976</td>\n",
       "      <td>1.102614</td>\n",
       "      <td>-0.098815</td>\n",
       "      <td>-0.164671</td>\n",
       "      <td>-0.124218</td>\n",
       "      <td>-0.117686</td>\n",
       "      <td>-0.247483</td>\n",
       "      <td>-0.132257</td>\n",
       "      <td>-0.078598</td>\n",
       "      <td>-0.024786</td>\n",
       "      <td>...</td>\n",
       "      <td>56024.380276</td>\n",
       "      <td>56020.454820</td>\n",
       "      <td>56022.717556</td>\n",
       "      <td>56013.480355</td>\n",
       "      <td>56015.916337</td>\n",
       "      <td>56013.356303</td>\n",
       "      <td>56024.066332</td>\n",
       "      <td>56026.392341</td>\n",
       "      <td>56027.683501</td>\n",
       "      <td>56030.162663</td>\n",
       "    </tr>\n",
       "    <tr>\n",
       "      <th>2</th>\n",
       "      <td>-0.798682</td>\n",
       "      <td>-0.658915</td>\n",
       "      <td>-0.098815</td>\n",
       "      <td>-0.164671</td>\n",
       "      <td>-0.124218</td>\n",
       "      <td>-0.117686</td>\n",
       "      <td>-0.247483</td>\n",
       "      <td>-0.132257</td>\n",
       "      <td>-0.078598</td>\n",
       "      <td>-0.024786</td>\n",
       "      <td>...</td>\n",
       "      <td>35021.585751</td>\n",
       "      <td>35016.966479</td>\n",
       "      <td>35019.087112</td>\n",
       "      <td>35018.509648</td>\n",
       "      <td>35015.682569</td>\n",
       "      <td>35015.822009</td>\n",
       "      <td>35015.482814</td>\n",
       "      <td>35015.032783</td>\n",
       "      <td>35016.415026</td>\n",
       "      <td>35015.210386</td>\n",
       "    </tr>\n",
       "    <tr>\n",
       "      <th>3</th>\n",
       "      <td>0.756044</td>\n",
       "      <td>0.272284</td>\n",
       "      <td>-0.098815</td>\n",
       "      <td>-0.164671</td>\n",
       "      <td>-0.124218</td>\n",
       "      <td>-0.117686</td>\n",
       "      <td>-0.247483</td>\n",
       "      <td>-0.132257</td>\n",
       "      <td>-0.078598</td>\n",
       "      <td>-0.024786</td>\n",
       "      <td>...</td>\n",
       "      <td>86046.623147</td>\n",
       "      <td>86028.935315</td>\n",
       "      <td>86031.229016</td>\n",
       "      <td>86017.427383</td>\n",
       "      <td>85997.462993</td>\n",
       "      <td>85997.363968</td>\n",
       "      <td>85997.307915</td>\n",
       "      <td>85996.704638</td>\n",
       "      <td>85996.301386</td>\n",
       "      <td>85995.845002</td>\n",
       "    </tr>\n",
       "    <tr>\n",
       "      <th>4</th>\n",
       "      <td>-0.944130</td>\n",
       "      <td>-0.388869</td>\n",
       "      <td>-0.098815</td>\n",
       "      <td>-0.164671</td>\n",
       "      <td>-0.124218</td>\n",
       "      <td>-0.117686</td>\n",
       "      <td>-0.247483</td>\n",
       "      <td>-0.132257</td>\n",
       "      <td>-0.078598</td>\n",
       "      <td>-0.024786</td>\n",
       "      <td>...</td>\n",
       "      <td>30352.103289</td>\n",
       "      <td>30343.563606</td>\n",
       "      <td>30336.042009</td>\n",
       "      <td>30331.327653</td>\n",
       "      <td>30329.979036</td>\n",
       "      <td>30327.806794</td>\n",
       "      <td>30327.255685</td>\n",
       "      <td>30324.567985</td>\n",
       "      <td>30324.400621</td>\n",
       "      <td>30320.936690</td>\n",
       "    </tr>\n",
       "  </tbody>\n",
       "</table>\n",
       "<p>5 rows × 66 columns</p>\n",
       "</div>"
      ],
      "text/plain": [
       "   Latitude  Longitude        AK        AL        AR        AZ        CA  \\\n",
       "0 -0.671908  -0.242047 -0.098815 -0.164671 -0.124218 -0.117686 -0.247483   \n",
       "1  0.559976   1.102614 -0.098815 -0.164671 -0.124218 -0.117686 -0.247483   \n",
       "2 -0.798682  -0.658915 -0.098815 -0.164671 -0.124218 -0.117686 -0.247483   \n",
       "3  0.756044   0.272284 -0.098815 -0.164671 -0.124218 -0.117686 -0.247483   \n",
       "4 -0.944130  -0.388869 -0.098815 -0.164671 -0.124218 -0.117686 -0.247483   \n",
       "\n",
       "         CO        CT        DC  ...           2021           2022  \\\n",
       "0 -0.132257 -0.078598 -0.024786  ...  437919.076320  437968.067552   \n",
       "1 -0.132257 -0.078598 -0.024786  ...   56024.380276   56020.454820   \n",
       "2 -0.132257 -0.078598 -0.024786  ...   35021.585751   35016.966479   \n",
       "3 -0.132257 -0.078598 -0.024786  ...   86046.623147   86028.935315   \n",
       "4 -0.132257 -0.078598 -0.024786  ...   30352.103289   30343.563606   \n",
       "\n",
       "            2023           2024           2025           2026           2027  \\\n",
       "0  437946.003624  438082.359156  437713.133892  437924.212936  437816.460612   \n",
       "1   56022.717556   56013.480355   56015.916337   56013.356303   56024.066332   \n",
       "2   35019.087112   35018.509648   35015.682569   35015.822009   35015.482814   \n",
       "3   86031.229016   86017.427383   85997.462993   85997.363968   85997.307915   \n",
       "4   30336.042009   30331.327653   30329.979036   30327.806794   30327.255685   \n",
       "\n",
       "            2028           2029           2030  \n",
       "0  437654.821336  437840.893367  437760.498637  \n",
       "1   56026.392341   56027.683501   56030.162663  \n",
       "2   35015.032783   35016.415026   35015.210386  \n",
       "3   85996.704638   85996.301386   85995.845002  \n",
       "4   30324.567985   30324.400621   30320.936690  \n",
       "\n",
       "[5 rows x 66 columns]"
      ]
     },
     "execution_count": 24,
     "metadata": {},
     "output_type": "execute_result"
    }
   ],
   "source": [
    "X1.head()"
   ]
  },
  {
   "cell_type": "markdown",
   "id": "0dbcd385",
   "metadata": {},
   "source": [
    "## Following the same steps for all the four data sets"
   ]
  },
  {
   "cell_type": "code",
   "execution_count": 25,
   "id": "d95df4ee",
   "metadata": {},
   "outputs": [],
   "source": [
    "Xs=[df_de_X_s,df_sf6_X_s,df_oog_X_s,df_ldc_X_s]\n",
    "ys=[df_de_y,df_sf6_y,df_oog_y,df_ldc_y]\n",
    "output=[]\n",
    "for df in range(4):\n",
    "    y = np.ravel(ys[df])\n",
    "    X=Xs[df]\n",
    "    years =  ['2020','2019', '2018', '2017', '2016','2015', '2014', '2013', '2012','2011']\n",
    "    years_future = ['2020','2021','2022','2023','2024','2025','2026','2027','2028','2029']\n",
    "    i=9\n",
    "    X1=X.copy()\n",
    "    for year in years_future:\n",
    "        rModel_res = reg.fit(X1, y)\n",
    "        y_pred = rModel_res.predict(X1)\n",
    "        #append the results to the dataframe\n",
    "        X1 = X1.drop([years[-1]],axis = 1)\n",
    "        X1[year] = y_pred\n",
    "        y = y_pred\n",
    "        years.pop(i)\n",
    "        i=i-1\n",
    "    rModel_res = reg.fit(X1, y)\n",
    "    X1['2030'] =rModel_res.predict(X1)\n",
    "    output.append(X1)"
   ]
  },
  {
   "cell_type": "code",
   "execution_count": 26,
   "id": "95af33aa",
   "metadata": {},
   "outputs": [],
   "source": [
    "de_future = output[0]\n",
    "sf6_future = output[1]\n",
    "oog_future = output[2]\n",
    "ldc_future = output[3]\n"
   ]
  },
  {
   "cell_type": "markdown",
   "id": "c2fe70cd",
   "metadata": {},
   "source": [
    "# 10. Output - Future prediction"
   ]
  },
  {
   "cell_type": "code",
   "execution_count": 27,
   "id": "74df3f33",
   "metadata": {},
   "outputs": [
    {
     "name": "stdout",
     "output_type": "stream",
     "text": [
      "      Latitude  Longitude        AK        AL        AR        AZ        CA  \\\n",
      "0    -0.671908  -0.242047 -0.098815 -0.164671 -0.124218 -0.117686 -0.247483   \n",
      "1     0.559976   1.102614 -0.098815 -0.164671 -0.124218 -0.117686 -0.247483   \n",
      "2    -0.798682  -0.658915 -0.098815 -0.164671 -0.124218 -0.117686 -0.247483   \n",
      "3     0.756044   0.272284 -0.098815 -0.164671 -0.124218 -0.117686 -0.247483   \n",
      "4    -0.944130  -0.388869 -0.098815 -0.164671 -0.124218 -0.117686 -0.247483   \n",
      "...        ...        ...       ...       ...       ...       ...       ...   \n",
      "6510 -0.923351  -0.101422 -0.098815 -0.164671 -0.124218 -0.117686 -0.247483   \n",
      "6511  0.863513   0.273532 -0.098815 -0.164671 -0.124218 -0.117686 -0.247483   \n",
      "6512  0.405063  -0.748091 -0.098815 -0.164671 -0.124218 -0.117686 -0.247483   \n",
      "6513 -1.576858  -0.286316 -0.098815 -0.164671 -0.124218 -0.117686 -0.247483   \n",
      "6514 -0.276575   0.565839 -0.098815 -0.164671 -0.124218 -0.117686 -0.247483   \n",
      "\n",
      "            CO        CT        DC  ...           2021           2022  \\\n",
      "0    -0.132257 -0.078598 -0.024786  ...  437919.076320  437968.067552   \n",
      "1    -0.132257 -0.078598 -0.024786  ...   56024.380276   56020.454820   \n",
      "2    -0.132257 -0.078598 -0.024786  ...   35021.585751   35016.966479   \n",
      "3    -0.132257 -0.078598 -0.024786  ...   86046.623147   86028.935315   \n",
      "4    -0.132257 -0.078598 -0.024786  ...   30352.103289   30343.563606   \n",
      "...        ...       ...       ...  ...            ...            ...   \n",
      "6510 -0.132257 -0.078598 -0.024786  ...   31479.625253   31482.656593   \n",
      "6511 -0.132257 -0.078598 -0.024786  ...  332604.529231  332559.770579   \n",
      "6512  7.561061 -0.078598 -0.024786  ...    8097.810012    8132.861295   \n",
      "6513 -0.132257 -0.078598 -0.024786  ...  713256.146539  713447.786555   \n",
      "6514 -0.132257 -0.078598 -0.024786  ...   81193.670104   81178.708920   \n",
      "\n",
      "               2023           2024           2025           2026  \\\n",
      "0     437946.003624  438082.359156  437713.133892  437924.212936   \n",
      "1      56022.717556   56013.480355   56015.916337   56013.356303   \n",
      "2      35019.087112   35018.509648   35015.682569   35015.822009   \n",
      "3      86031.229016   86017.427383   85997.462993   85997.363968   \n",
      "4      30336.042009   30331.327653   30329.979036   30327.806794   \n",
      "...             ...            ...            ...            ...   \n",
      "6510   31489.745642   31498.347218   31498.691310   31493.993242   \n",
      "6511  332521.924514  332512.990224  332509.810565  332499.329392   \n",
      "6512    8080.330793    8102.134198    8099.653865    8086.399160   \n",
      "6513  713787.835223  713940.808271  714315.942210  714340.151405   \n",
      "6514   81143.659255   81144.476890   81141.981403   81129.942974   \n",
      "\n",
      "               2027           2028           2029           2030  \n",
      "0     437816.460612  437654.821336  437840.893367  437760.498637  \n",
      "1      56024.066332   56026.392341   56027.683501   56030.162663  \n",
      "2      35015.482814   35015.032783   35016.415026   35015.210386  \n",
      "3      85997.307915   85996.704638   85996.301386   85995.845002  \n",
      "4      30327.255685   30324.567985   30324.400621   30320.936690  \n",
      "...             ...            ...            ...            ...  \n",
      "6510   31493.516821   31488.385371   31490.042657   31490.864568  \n",
      "6511  332494.084670  332489.214257  332484.976070  332482.893267  \n",
      "6512    8101.733566    8084.555477    8098.227684    8105.305271  \n",
      "6513  714639.639238  714729.574241  714808.252650  714841.195008  \n",
      "6514   81120.580322   81123.513127   81110.818625   81113.623273  \n",
      "\n",
      "[6515 rows x 66 columns]     Latitude  Longitude      AL        AZ        CA        CO       FL  \\\n",
      "0   0.377242   0.846618 -0.1066 -0.186772 -0.355784 -0.106600 -0.21693   \n",
      "1   0.563098   0.378405 -0.1066 -0.186772 -0.355784 -0.106600 -0.21693   \n",
      "2   0.214034   0.341752 -0.1066 -0.186772 -0.355784 -0.106600 -0.21693   \n",
      "3  -0.593181  -1.298040 -0.1066 -0.186772  2.810694 -0.106600 -0.21693   \n",
      "4  -0.636383  -0.954151 -0.1066  5.354126 -0.355784 -0.106600 -0.21693   \n",
      "..       ...        ...     ...       ...       ...       ...      ...   \n",
      "84 -0.943317  -0.621572 -0.1066 -0.186772 -0.355784 -0.106600 -0.21693   \n",
      "85 -0.875091  -0.882707 -0.1066  5.354126 -0.355784 -0.106600 -0.21693   \n",
      "86  1.064103   1.361002 -0.1066 -0.186772 -0.355784 -0.106600 -0.21693   \n",
      "87  0.030734   1.096992 -0.1066 -0.186772 -0.355784 -0.106600 -0.21693   \n",
      "88  0.397077  -0.541710 -0.1066 -0.186772 -0.355784  9.380832 -0.21693   \n",
      "\n",
      "        GA      HI       IA  ...           2021           2022           2023  \\\n",
      "0  -0.1066 -0.1066 -0.15162  ...  122794.709867  120913.446400  119883.337941   \n",
      "1  -0.1066 -0.1066 -0.15162  ...   10393.620732   10337.371724   10784.862766   \n",
      "2  -0.1066 -0.1066 -0.15162  ...   10252.308800   10437.698289   10846.586483   \n",
      "3  -0.1066 -0.1066 -0.15162  ...    1753.016000    1708.196267    1675.107150   \n",
      "4  -0.1066 -0.1066 -0.15162  ...   26825.408985   26553.297008   26172.410733   \n",
      "..     ...     ...      ...  ...            ...            ...            ...   \n",
      "84 -0.1066 -0.1066 -0.15162  ...   21235.404499   21516.792719   21694.082557   \n",
      "85 -0.1066 -0.1066 -0.15162  ...   12334.155364   12706.706585   12544.870622   \n",
      "86 -0.1066 -0.1066 -0.15162  ...     880.688000     929.459058     968.034727   \n",
      "87 -0.1066 -0.1066 -0.15162  ...   44519.394585   43711.900725   43075.493556   \n",
      "88 -0.1066 -0.1066 -0.15162  ...   37856.230865   37241.644077   36231.469278   \n",
      "\n",
      "             2024           2025           2026           2027           2028  \\\n",
      "0   115315.926747  111947.276268  109594.500129  109402.826057  108608.267078   \n",
      "1    10749.533062   11045.397783   11052.903775   10964.168988   10916.217622   \n",
      "2    10760.783388   10894.694472   10981.456649   10946.495303   10909.002423   \n",
      "3     1639.850734    1605.283716    1560.286325    1535.297217    1508.442433   \n",
      "4    25944.163207   25833.204128   25781.132323   25742.703157   25725.475697   \n",
      "..            ...            ...            ...            ...            ...   \n",
      "84   21936.465588   22016.619341   22386.356466   22551.976622   22804.679120   \n",
      "85   12591.373129   12724.525970   12748.451627   12771.194298   12802.607186   \n",
      "86     927.989097     876.933377     812.299457     807.073034     839.598483   \n",
      "87   42912.935524   42308.112011   42308.847538   42203.548736   41782.146316   \n",
      "88   35900.098343   36331.139350   36216.866224   35996.828372   36017.819506   \n",
      "\n",
      "             2029           2030  \n",
      "0   109488.740139  108670.823776  \n",
      "1    10899.892944   10876.694958  \n",
      "2    10898.173850   10887.815060  \n",
      "3     1483.475591    1462.791764  \n",
      "4    25714.144789   25706.940450  \n",
      "..            ...            ...  \n",
      "84   22684.097100   22815.429566  \n",
      "85   12952.051651   12937.590617  \n",
      "86     821.726149     786.343158  \n",
      "87   41680.599521   41595.301623  \n",
      "88   36115.381474   36081.101982  \n",
      "\n",
      "[89 rows x 48 columns]      Latitude  Longitude        AK        AR        CA        CO        LA  \\\n",
      "0    0.688892  -0.547723 -0.140028 -0.065512 -0.216748  2.446441 -0.103919   \n",
      "1    0.018543   0.168086 -0.140028 -0.065512 -0.216748 -0.408757 -0.103919   \n",
      "2   -0.872566   0.348620 -0.140028 -0.065512 -0.216748 -0.408757 -0.103919   \n",
      "3    0.034292   0.169643 -0.140028 -0.065512 -0.216748 -0.408757 -0.103919   \n",
      "4    0.018543   0.168086 -0.140028 -0.065512 -0.216748 -0.408757 -0.103919   \n",
      "..        ...        ...       ...       ...       ...       ...       ...   \n",
      "463  0.658548  -0.535967 -0.140028 -0.065512 -0.216748  2.446441 -0.103919   \n",
      "464  0.220607  -0.841834 -0.140028 -0.065512 -0.216748 -0.408757 -0.103919   \n",
      "465 -0.876288   0.374066 -0.140028 -0.065512 -0.216748 -0.408757 -0.103919   \n",
      "466 -0.876288   0.374066 -0.140028 -0.065512 -0.216748 -0.408757 -0.103919   \n",
      "467  0.689691  -0.548453 -0.140028 -0.065512 -0.216748  2.446441 -0.103919   \n",
      "\n",
      "           MI        MS        MT  ...           2021           2022  \\\n",
      "0   -0.140028 -0.080322 -0.046274  ...  293813.490401  294364.593353   \n",
      "1   -0.140028 -0.080322 -0.046274  ...  530617.583657  519177.525659   \n",
      "2   -0.140028 -0.080322 -0.046274  ...   42426.105493   42391.296738   \n",
      "3   -0.140028 -0.080322 -0.046274  ...  146434.834213  146066.893044   \n",
      "4   -0.140028 -0.080322 -0.046274  ...  323327.664011  322480.615269   \n",
      "..        ...       ...       ...  ...            ...            ...   \n",
      "463 -0.140028 -0.080322 -0.046274  ...   48299.682611   48149.833954   \n",
      "464 -0.140028 -0.080322 -0.046274  ...   35206.927428   35198.592333   \n",
      "465 -0.140028 -0.080322 -0.046274  ...  112668.189440  112776.545752   \n",
      "466 -0.140028 -0.080322 -0.046274  ...  112668.189440  112776.545752   \n",
      "467 -0.140028 -0.080322 -0.046274  ...  169157.757262  169110.850605   \n",
      "\n",
      "              2023           2024           2025           2026  \\\n",
      "0    294893.355621  295054.215375  295367.504870  295522.103961   \n",
      "1    510705.806247  502558.098642  502924.668479  496789.077357   \n",
      "2     42407.807898   42341.166649   42061.673932   42059.436409   \n",
      "3    146108.025297  146341.554015  146376.256175  146363.917523   \n",
      "4    322476.195376  322417.903818  322449.711491  322411.684579   \n",
      "..             ...            ...            ...            ...   \n",
      "463   48199.699316   48220.548473   48329.764655   48323.280471   \n",
      "464   35072.343579   35041.812787   35009.713706   34968.099613   \n",
      "465  112813.099921  112846.870732  112866.998477  112881.344493   \n",
      "466  112813.099921  112846.870732  112866.998477  112881.344493   \n",
      "467  169224.065842  169286.333377  169329.227951  169400.949109   \n",
      "\n",
      "              2027           2028           2029           2030  \n",
      "0    295653.115998  295824.557349  296043.006207  296119.704422  \n",
      "1    494899.933305  493214.955935  494567.355214  494704.076777  \n",
      "2     42067.988434   42124.329963   42097.870050   42081.683599  \n",
      "3    146362.264979  146359.413837  146365.687594  147019.546055  \n",
      "4    322365.136694  322362.699117  322344.996910  322336.707680  \n",
      "..             ...            ...            ...            ...  \n",
      "463   48300.647703   48302.960032   48304.162710   48261.713872  \n",
      "464   35253.371746   35164.266377   35103.400089   35050.302582  \n",
      "465  112890.650730  112895.544100  112898.761461  112901.288576  \n",
      "466  112890.650730  112895.544100  112898.761461  112901.288576  \n",
      "467  169411.938549  169429.099939  169475.139512  169506.407030  \n",
      "\n",
      "[468 rows x 29 columns]      Latitude  Longitude        AL        AR        AZ        CA        CO  \\\n",
      "0    0.568156  -0.027953 -0.177332 -0.078326 -0.111111 -0.136505 -0.111111   \n",
      "1    0.112632  -0.075982 -0.177332 -0.078326 -0.111111 -0.136505 -0.111111   \n",
      "2   -0.952630   0.375752 -0.177332 -0.078326 -0.111111 -0.136505 -0.111111   \n",
      "3   -1.140857  -0.588268 -0.177332 -0.078326 -0.111111 -0.136505 -0.111111   \n",
      "4   -1.140859  -0.588268 -0.177332 -0.078326 -0.111111 -0.136505 -0.111111   \n",
      "..        ...        ...       ...       ...       ...       ...       ...   \n",
      "159  0.151727   0.934886 -0.177332 -0.078326 -0.111111 -0.136505 -0.111111   \n",
      "160 -1.344757  -0.996324 -0.177332 -0.078326 -0.111111 -0.136505 -0.111111   \n",
      "161  1.109954  -0.004978 -0.177332 -0.078326 -0.111111 -0.136505 -0.111111   \n",
      "162  1.410639   0.094665 -0.177332 -0.078326 -0.111111 -0.136505 -0.111111   \n",
      "163  0.778981   1.280160 -0.177332 -0.078326 -0.111111 -0.136505 -0.111111   \n",
      "\n",
      "           CT        DE        FL  ...           2021           2022  \\\n",
      "0   -0.158114 -0.111111 -0.177332  ...   77017.458089   74624.602851   \n",
      "1   -0.158114 -0.111111 -0.177332  ...   14510.300667   14790.945689   \n",
      "2   -0.158114 -0.111111 -0.177332  ...  151259.241111  150923.728970   \n",
      "3   -0.158114 -0.111111 -0.177332  ...   17446.537333   17466.802652   \n",
      "4   -0.158114 -0.111111 -0.177332  ...   21920.047413   21622.660942   \n",
      "..        ...       ...       ...  ...            ...            ...   \n",
      "159 -0.158114 -0.111111 -0.177332  ...   49604.631111   49148.072514   \n",
      "160 -0.158114 -0.111111 -0.177332  ...   31622.058444   32189.178390   \n",
      "161 -0.158114 -0.111111 -0.177332  ...   21095.383547   21046.891983   \n",
      "162 -0.158114 -0.111111 -0.177332  ...   39066.352240   39039.868383   \n",
      "163  6.324555 -0.111111 -0.177332  ...   51273.948213   51175.240440   \n",
      "\n",
      "              2023           2024           2025           2026  \\\n",
      "0     75235.512513   74108.707503   77159.164769   77116.761728   \n",
      "1     14884.144506   15129.673189   14640.113340   14799.512216   \n",
      "2    150045.282814  146687.719333  145327.845132  145178.768120   \n",
      "3     17478.390554   17487.926809   17503.695291   17509.289894   \n",
      "4     21874.849873   22256.982628   22324.867422   22437.393284   \n",
      "..             ...            ...            ...            ...   \n",
      "159   49116.690962   49092.356592   49355.603878   49393.544060   \n",
      "160   32705.957726   33066.136442   32594.139229   32491.916022   \n",
      "161   21022.128182   21174.460039   21305.524385   21202.952028   \n",
      "162   39027.956918   39068.778448   38819.837516   38913.741453   \n",
      "163   51254.078207   51495.748191   51636.656321   51678.989696   \n",
      "\n",
      "              2027           2028           2029           2030  \n",
      "0     76760.643660   76723.510135   74992.432189   73306.907233  \n",
      "1     15073.739060   15111.334108   15073.775783   15137.423112  \n",
      "2    145025.361656  145749.015247  144575.182628  145443.032160  \n",
      "3     17514.463439   17518.257372   17521.039590   17523.079883  \n",
      "4     22426.423686   22241.912233   22304.673749   22268.847894  \n",
      "..             ...            ...            ...            ...  \n",
      "159   49434.917166   49575.183800   49636.293328   49600.042174  \n",
      "160   32526.479273   33005.750019   32945.050404   33254.558197  \n",
      "161   21302.147493   21370.084316   21457.972374   21513.357316  \n",
      "162   38869.537375   38580.393126   38695.799973   38607.268779  \n",
      "163   51576.012597   51704.686551   51629.366978   51662.902158  \n",
      "\n",
      "[164 rows x 55 columns]\n"
     ]
    }
   ],
   "source": [
    "print(de_future, sf6_future, oog_future, ldc_future)"
   ]
  },
  {
   "cell_type": "code",
   "execution_count": 28,
   "id": "e3fe22b2",
   "metadata": {},
   "outputs": [],
   "source": [
    "df_de_pred = pd.DataFrame()\n",
    "df_sf6_pred = pd.DataFrame()\n",
    "df_ldc_pred = pd.DataFrame()\n",
    "df_oog_pred = pd.DataFrame()"
   ]
  },
  {
   "cell_type": "code",
   "execution_count": 29,
   "id": "42c129c2",
   "metadata": {},
   "outputs": [
    {
     "data": {
      "text/plain": [
       "Index(['State', 'Latitude', 'Longitude', '2020', '2019', '2018', '2017',\n",
       "       '2016', '2015', '2014', '2013', '2012', '2011'],\n",
       "      dtype='object')"
      ]
     },
     "execution_count": 29,
     "metadata": {},
     "output_type": "execute_result"
    }
   ],
   "source": [
    "df_de_X.columns"
   ]
  },
  {
   "cell_type": "code",
   "execution_count": 30,
   "id": "06c9428d",
   "metadata": {
    "scrolled": true
   },
   "outputs": [],
   "source": [
    "df_de_pred['State'] = df_de_X['State']\n",
    "df_de_pred['2011'] = df_de_X['2011']\n",
    "df_de_pred['2020']=df_de_X['2020']\n",
    "df_de_pred['2030']=de_future['2030']\n",
    "df_de_pred['reduction'] = 100*(df_de_pred['2020'] - df_de_pred['2030'])/df_de_pred['2030'] \n",
    "\n",
    "df_oog_pred['State'] = df_oog_X['State']\n",
    "df_oog_pred['2011'] = df_oog_X['2011']\n",
    "df_oog_pred['2020']=df_oog_X['2020']\n",
    "df_oog_pred['2030']=oog_future['2030']\n",
    "df_oog_pred['reduction'] = 100*(df_oog_pred['2020'] - df_oog_pred['2030'])/df_oog_pred['2030'] \n",
    "\n",
    "df_sf6_pred['State'] = df_sf6_X['State']\n",
    "df_sf6_pred['2011'] = df_sf6_X['2011']\n",
    "df_sf6_pred['2020']=df_sf6_X['2020']\n",
    "df_sf6_pred['2030']=sf6_future['2030']\n",
    "df_sf6_pred['reduction'] = 100*(df_sf6_pred['2020'] - df_sf6_pred['2030'])/df_sf6_pred['2030'] \n",
    "\n",
    "df_ldc_pred['State'] = df_ldc_X['State']\n",
    "df_ldc_pred['2011'] = df_ldc_X['2011']\n",
    "df_ldc_pred['2020']=df_ldc_X['2020']\n",
    "df_ldc_pred['2030']=ldc_future['2030']\n",
    "df_ldc_pred['reduction'] = 100*(df_ldc_pred['2020'] - df_ldc_pred['2030'])/df_ldc_pred['2030'] \n"
   ]
  },
  {
   "cell_type": "code",
   "execution_count": 31,
   "id": "bd1ca626",
   "metadata": {},
   "outputs": [
    {
     "data": {
      "text/plain": [
       "Index(['State', '2011', '2020', '2030', 'reduction'], dtype='object')"
      ]
     },
     "execution_count": 31,
     "metadata": {},
     "output_type": "execute_result"
    }
   ],
   "source": [
    "df_de_pred.columns"
   ]
  },
  {
   "cell_type": "code",
   "execution_count": 32,
   "id": "fdd4bd19",
   "metadata": {},
   "outputs": [],
   "source": [
    "df_de_g = df_de_pred.groupby('State')[['2011','2020','2030']].mean().apply(lambda x: round(x,2))\n",
    "df_oog_g = df_oog_pred.groupby('State')[['2011','2020','2030']].mean().apply(lambda x: round(x,2))\n",
    "df_sf6_g = df_sf6_pred.groupby('State')[['2011','2020','2030']].mean().apply(lambda x: round(x,2))\n",
    "df_ldc_g = df_ldc_pred.groupby('State')[['2011','2020','2030']].mean().apply(lambda x: round(x,2))"
   ]
  },
  {
   "cell_type": "code",
   "execution_count": 33,
   "id": "799e0e87",
   "metadata": {},
   "outputs": [],
   "source": [
    "df_de_g['2020-30 %']=round(100*(df_de_g['2020'] - df_de_g['2030'])/df_de_g['2020'],2)\n",
    "df_de_g['2011-20 %']=round(100*(df_de_g['2011'] - df_de_g['2020'])/df_de_g['2011'],2)\n",
    "df_de_g['emission'] = 1\n",
    "df_de_g.loc[df_de_g['2020-30 %']<0,'emission'] = -1\n",
    "\n",
    "df_oog_g['2020-30 %']=round(100*(df_oog_g['2020'] - df_oog_g['2030'])/df_oog_g['2020'],2)\n",
    "df_oog_g['2011-20 %']=round(100*(df_oog_g['2011'] - df_oog_g['2020'])/df_oog_g['2011'],2)\n",
    "df_oog_g['emission'] = 1\n",
    "df_oog_g.loc[df_oog_g['2020-30 %']<0,'emission'] = -1\n",
    "\n",
    "df_sf6_g['2020-30 %']=round(100*(df_sf6_g['2020'] - df_sf6_g['2030'])/df_sf6_g['2020'],2)\n",
    "df_sf6_g['2011-20 %']=round(100*(df_sf6_g['2011'] - df_sf6_g['2020'])/df_sf6_g['2011'],2)\n",
    "df_sf6_g['emission'] = 1\n",
    "df_sf6_g.loc[df_sf6_g['2020-30 %']<0,'emission'] = -1\n",
    "\n",
    "df_ldc_g['2020-30 %']=round(100*(df_ldc_g['2020'] - df_ldc_g['2030'])/df_ldc_g['2020'],2)\n",
    "df_ldc_g['2011-20 %']=round(100*(df_ldc_g['2011'] - df_ldc_g['2020'])/df_ldc_g['2011'],2)\n",
    "df_ldc_g['emission'] = 1\n",
    "df_ldc_g.loc[df_ldc_g['2020-30 %']<0,'emission'] = -1"
   ]
  },
  {
   "cell_type": "code",
   "execution_count": 34,
   "id": "f8c47af5",
   "metadata": {},
   "outputs": [
    {
     "name": "stdout",
     "output_type": "stream",
     "text": [
      "Cities that would have reduced direct emission as per the above predictive model: \n",
      "            2020       2030  2020-30 %\n",
      "State                                 \n",
      "AK     227011.06  220716.70       2.77\n",
      "AL     428724.98  400201.98       6.65\n",
      "AZ     487898.79  452206.48       7.32\n",
      "CA     240849.09  238725.19       0.88\n",
      "CT     268620.23  258284.32       3.85\n",
      "DE     309249.64  306042.13       1.04\n",
      "FL     692818.77  666700.68       3.77\n",
      "IL     330355.20  325557.84       1.45\n",
      "KS     311466.99  303631.66       2.52\n",
      "MA     127168.92  126943.97       0.18\n",
      "MO     637050.23  604197.22       5.16\n",
      "MS     387816.56  370623.76       4.43\n",
      "ND     580395.25  575670.50       0.81\n",
      "NE     370176.80  369025.48       0.31\n",
      "NV     430280.33  421032.22       2.15\n",
      "NY     171527.16  168970.74       1.49\n",
      "OH     401268.46  392445.09       2.20\n",
      "OK     286416.50  285461.69       0.33\n",
      "PR     696112.75  647229.13       7.02\n",
      "RI     349757.34  336147.98       3.89\n",
      "SC     326637.72  324919.55       0.53\n",
      "TX     441232.75  441016.46       0.05\n",
      "VA     329679.09  318882.42       3.27\n",
      "VT      86547.72   84743.81       2.08\n",
      "WA     257405.48  256290.04       0.43\n",
      "WI     312118.50  307438.67       1.50\n",
      "WV     569000.49  567126.28       0.33\n",
      "WY     776126.14  774337.80       0.23\n",
      "Cities that would have reduced emission by OOG as per the above predictive model: \n",
      "            2020       2030  2020-30 %\n",
      "State                                 \n",
      "AR     378190.31  366461.17       3.10\n",
      "CA     147824.75  139034.83       5.95\n",
      "MI      71751.19   65164.47       9.18\n",
      "MS      49101.21   47959.81       2.32\n",
      "OK     215994.58  213826.01       1.00\n",
      "PA     129120.73  126621.48       1.94\n",
      "TX     210382.77  206783.73       1.71\n",
      "UT     138898.70  134777.72       2.97\n",
      "WV      76350.07   66299.34      13.16\n",
      "Cities that would have reduced SF6 emission as per the above predictive model: \n",
      "       2020-30 %\n",
      "State           \n",
      "CA         15.75\n",
      "CO         47.87\n",
      "MA          6.82\n",
      "MI         29.31\n",
      "MN         28.14\n",
      "NC         55.72\n",
      "NE         27.87\n",
      "NM         17.21\n",
      "OH         16.05\n",
      "OK         22.82\n",
      "SC         18.35\n",
      "Cities that would have reduced emission by LDC as per the above predictive model: \n",
      "       2020-30 %\n",
      "State           \n",
      "AR         39.31\n",
      "AZ          0.33\n",
      "CA         44.02\n",
      "CO          4.54\n",
      "GA         11.94\n",
      "IA          6.99\n",
      "IL          0.02\n",
      "KS          2.17\n",
      "MA         13.17\n",
      "MT          1.08\n",
      "NC          4.73\n",
      "NE          1.58\n",
      "NV          1.29\n",
      "OH          5.15\n",
      "OK          1.24\n",
      "OR          3.37\n",
      "PA          0.06\n",
      "RI          0.60\n",
      "TX         13.49\n",
      "VT         17.17\n",
      "WA          3.02\n",
      "WV          2.53\n"
     ]
    }
   ],
   "source": [
    "de_red_emi = df_de_g.loc[df_de_g['emission'] == 1]\n",
    "print(\"Cities that would have reduced direct emission as per the above predictive model: \")\n",
    "print(de_red_emi[['2020','2030','2020-30 %']])\n",
    "\n",
    "oog_red_emi = df_oog_g.loc[df_oog_g['emission'] == 1]\n",
    "print(\"Cities that would have reduced emission by OOG as per the above predictive model: \")\n",
    "print(oog_red_emi[['2020','2030','2020-30 %']])\n",
    "\n",
    "sf6_red_emi = df_sf6_g.loc[df_sf6_g['emission'] == 1]\n",
    "print(\"Cities that would have reduced SF6 emission as per the above predictive model: \")\n",
    "print(sf6_red_emi[['2020-30 %']])\n",
    "\n",
    "ldc_red_emi = df_ldc_g.loc[df_ldc_g['emission'] == 1]\n",
    "print(\"Cities that would have reduced emission by LDC as per the above predictive model: \")\n",
    "print(ldc_red_emi[['2020-30 %']])"
   ]
  },
  {
   "cell_type": "code",
   "execution_count": 35,
   "id": "797d25af",
   "metadata": {},
   "outputs": [
    {
     "data": {
      "text/plain": [
       "<seaborn.axisgrid.FacetGrid at 0x27adf14de20>"
      ]
     },
     "execution_count": 35,
     "metadata": {},
     "output_type": "execute_result"
    },
    {
     "data": {
      "image/png": "[encoded data removed]",
      "text/plain": [
       "<Figure size 432x288 with 1 Axes>"
      ]
     },
     "metadata": {
      "needs_background": "light"
     },
     "output_type": "display_data"
    },
    {
     "data": {
      "image/png": "[encoded data removed]",
      "text/plain": [
       "<Figure size 412.75x360 with 1 Axes>"
      ]
     },
     "metadata": {
      "needs_background": "light"
     },
     "output_type": "display_data"
    }
   ],
   "source": [
    "de = pd.melt(de_red_emi[['2011','2020','2030']],ignore_index=False,var_name='Year',value_name=\"Emission in metric tons\")\n",
    "sns.swarmplot(x='Year', y='Emission in metric tons', size= 3, data= de)\n",
    "sns.relplot(x='Year', y='Emission in metric tons', hue='State', markers = True, dashes = False, kind='line', data=de )"
   ]
  },
  {
   "cell_type": "code",
   "execution_count": 36,
   "id": "69b879cd",
   "metadata": {},
   "outputs": [
    {
     "data": {
      "text/plain": [
       "<seaborn.axisgrid.FacetGrid at 0x27adf2c3df0>"
      ]
     },
     "execution_count": 36,
     "metadata": {},
     "output_type": "execute_result"
    },
    {
     "data": {
      "image/png": "[encoded data removed]",
      "text/plain": [
       "<Figure size 432x288 with 1 Axes>"
      ]
     },
     "metadata": {
      "needs_background": "light"
     },
     "output_type": "display_data"
    },
    {
     "data": {
      "image/png": "[encoded data removed]",
      "text/plain": [
       "<Figure size 412.75x360 with 1 Axes>"
      ]
     },
     "metadata": {
      "needs_background": "light"
     },
     "output_type": "display_data"
    }
   ],
   "source": [
    "oog = pd.melt(oog_red_emi[['2011','2020','2030']],ignore_index=False,var_name='Year',value_name=\"Emission in metric tons\")\n",
    "sns.swarmplot(x='Year', y='Emission in metric tons', size= 3, data= oog)\n",
    "sns.relplot(x='Year', y='Emission in metric tons', hue='State', markers = True, dashes = False, kind='line', data=oog )"
   ]
  },
  {
   "cell_type": "code",
   "execution_count": 37,
   "id": "e3913809",
   "metadata": {},
   "outputs": [
    {
     "data": {
      "text/plain": [
       "<seaborn.axisgrid.FacetGrid at 0x27adf2b8e20>"
      ]
     },
     "execution_count": 37,
     "metadata": {},
     "output_type": "execute_result"
    },
    {
     "data": {
      "image/png": "[encoded data removed]",
      "text/plain": [
       "<Figure size 432x288 with 1 Axes>"
      ]
     },
     "metadata": {
      "needs_background": "light"
     },
     "output_type": "display_data"
    },
    {
     "data": {
      "image/png": "[encoded data removed]",
      "text/plain": [
       "<Figure size 412.125x360 with 1 Axes>"
      ]
     },
     "metadata": {
      "needs_background": "light"
     },
     "output_type": "display_data"
    }
   ],
   "source": [
    "sf6 = pd.melt(sf6_red_emi[['2011','2020','2030']],ignore_index=False,var_name='Year',value_name=\"Emission in metric tons\")\n",
    "sns.swarmplot(x='Year', y='Emission in metric tons', size= 3, data= sf6)\n",
    "sns.relplot(x='Year', y='Emission in metric tons', hue='State', markers = True, dashes = False, kind='line', data=sf6 )"
   ]
  },
  {
   "cell_type": "code",
   "execution_count": 38,
   "id": "c1ca66e5",
   "metadata": {},
   "outputs": [
    {
     "data": {
      "text/plain": [
       "<seaborn.axisgrid.FacetGrid at 0x27adf090310>"
      ]
     },
     "execution_count": 38,
     "metadata": {},
     "output_type": "execute_result"
    },
    {
     "data": {
      "image/png": "[encoded data removed]",
      "text/plain": [
       "<Figure size 432x288 with 1 Axes>"
      ]
     },
     "metadata": {
      "needs_background": "light"
     },
     "output_type": "display_data"
    },
    {
     "data": {
      "image/png": "[encoded data removed]",
      "text/plain": [
       "<Figure size 412.75x360 with 1 Axes>"
      ]
     },
     "metadata": {
      "needs_background": "light"
     },
     "output_type": "display_data"
    }
   ],
   "source": [
    "ldc = pd.melt(ldc_red_emi[['2011','2020','2030']],ignore_index=False,var_name='Year',value_name=\"Emission in metric tons\")\n",
    "sns.swarmplot(x='Year', y='Emission in metric tons', size= 3, data= ldc)\n",
    "sns.relplot(x='Year', y='Emission in metric tons', hue='State', markers = True, dashes = False, kind='line', data=ldc )"
   ]
  },
  {
   "cell_type": "markdown",
   "id": "1c7a4e9b",
   "metadata": {},
   "source": [
    "# 11. Conclusion\n",
    "\n",
    "With the data in the dataset, we can use only the regression technique. Time series models need more time-related data and so do not fit for this data. Among the three regression techniques, Random Forest regression model yielded best results. So for all the 4 different emission data from Direct Emitters, SF6, Local Dist. Companies (LDC) and Onshore Oil and Gas (OOG) companies, we trained the data with RF modeling technique and predicted the next 10 year's emission until 2030. \n",
    "The above charts shows the emission by the States that was predicted by the model to have reduced the emission by 2030."
   ]
  }
 ],
 "metadata": {
  "kernelspec": {
   "display_name": "Python 3",
   "language": "python",
   "name": "python3"
  },
  "language_info": {
   "codemirror_mode": {
    "name": "ipython",
    "version": 3
   },
   "file_extension": ".py",
   "mimetype": "text/x-python",
   "name": "python",
   "nbconvert_exporter": "python",
   "pygments_lexer": "ipython3",
   "version": "3.8.8"
  }
 },
 "nbformat": 4,
 "nbformat_minor": 5
}
